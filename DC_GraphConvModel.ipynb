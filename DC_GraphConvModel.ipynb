{
  "nbformat": 4,
  "nbformat_minor": 0,
  "metadata": {
    "colab": {
      "provenance": [],
      "toc_visible": true,
      "authorship_tag": "ABX9TyNVPRZdEfzJxhG2JzAe1yAx",
      "include_colab_link": true
    },
    "kernelspec": {
      "name": "python3",
      "display_name": "Python 3"
    },
    "language_info": {
      "name": "python"
    }
  },
  "cells": [
    {
      "cell_type": "markdown",
      "metadata": {
        "id": "view-in-github",
        "colab_type": "text"
      },
      "source": [
        "<a href=\"https://colab.research.google.com/github/LokeRuiKee/AChE-GNN/blob/main/DC_GraphConvModel.ipynb\" target=\"_parent\"><img src=\"https://colab.research.google.com/assets/colab-badge.svg\" alt=\"Open In Colab\"/></a>"
      ]
    },
    {
      "cell_type": "code",
      "source": [
        "%%capture\n",
        "!pip install rdkit\n",
        "!pip install colorama\n",
        "!pip install deepchem"
      ],
      "metadata": {
        "id": "GLdLdEJMnp4s"
      },
      "execution_count": 1,
      "outputs": []
    },
    {
      "cell_type": "code",
      "source": [
        "from google.colab import drive\n",
        "drive.mount('/content/drive')"
      ],
      "metadata": {
        "colab": {
          "base_uri": "https://localhost:8080/"
        },
        "id": "DGLe-LuRexN0",
        "outputId": "72b2ca81-5a92-4515-e4dc-5a84a6b159a2"
      },
      "execution_count": 2,
      "outputs": [
        {
          "output_type": "stream",
          "name": "stdout",
          "text": [
            "Drive already mounted at /content/drive; to attempt to forcibly remount, call drive.mount(\"/content/drive\", force_remount=True).\n"
          ]
        }
      ]
    },
    {
      "cell_type": "markdown",
      "source": [
        "# Dataset: Load, Split, Featurize"
      ],
      "metadata": {
        "id": "bcDQJOxDpy4z"
      }
    },
    {
      "cell_type": "code",
      "execution_count": 4,
      "metadata": {
        "id": "G9QhHdameohA"
      },
      "outputs": [],
      "source": [
        "import pandas as pd\n",
        "import deepchem as dc\n",
        "from sklearn.model_selection import train_test_split\n",
        "import os\n",
        "import numpy as np\n",
        "from sklearn.metrics import accuracy_score, f1_score, roc_auc_score\n",
        "\n",
        "# Load the dataset\n",
        "file_path = \"/content/drive/MyDrive/Colab Notebooks/Dataset/tx2c00283_si_002/SupplementalFiles/Human_dataset_1micromolar.xlsx\"\n",
        "df = pd.read_excel(file_path)\n",
        "\n",
        "# Specify the columns\n",
        "smiles_column = \"SMILES\"\n",
        "y_column = \"single-class-label\"\n",
        "\n",
        "# Split the data into features and target\n",
        "X = df[smiles_column]\n",
        "y = df[y_column]\n",
        "\n",
        "# Split the data into training+validation and test sets\n",
        "X_train_val, X_test, y_train_val, y_test = train_test_split(X, y, test_size=0.2, random_state=42)\n",
        "\n",
        "# Split the training+validation set into training and validation sets\n",
        "X_train, X_val, y_train, y_val = train_test_split(X_train_val, y_train_val, test_size=0.25, random_state=42)\n",
        "\n",
        "# Concatenate the features and target for each set\n",
        "train_data = pd.concat([X_train, y_train], axis=1)\n",
        "val_data = pd.concat([X_val, y_val], axis=1)\n",
        "test_data = pd.concat([X_test, y_test], axis=1)\n",
        "\n",
        "# Define the directory and file paths\n",
        "base_dir = \"/content/drive/MyDrive/Colab Notebooks/Dataset/data/process\"\n",
        "train_file = os.path.join(base_dir, \"pdY_train.csv\")\n",
        "val_file = os.path.join(base_dir, \"pdY_val.csv\")\n",
        "test_file = os.path.join(base_dir, \"pdY_test.csv\")\n",
        "\n",
        "# Create the directory if it doesn't exist\n",
        "os.makedirs(base_dir, exist_ok=True)\n",
        "\n",
        "# Save the data to CSV files\n",
        "train_data.to_csv(train_file, index=False)\n",
        "val_data.to_csv(val_file, index=False)\n",
        "test_data.to_csv(test_file, index=False)\n",
        "\n",
        "# Load the data using DeepChem\n",
        "tasks = [\"single-class-label\"]\n",
        "ntasks = len(tasks)\n",
        "featurizer_func = dc.feat.ConvMolFeaturizer()\n",
        "loader = dc.data.CSVLoader(tasks=tasks, feature_field='SMILES', featurizer=featurizer_func)\n",
        "\n",
        "train_dataset = loader.create_dataset(train_file)\n",
        "val_dataset = loader.create_dataset(val_file)\n",
        "test_dataset = loader.create_dataset(test_file)"
      ]
    },
    {
      "cell_type": "markdown",
      "source": [
        "# Model Construction"
      ],
      "metadata": {
        "id": "EPKcDYE_arg6"
      }
    },
    {
      "cell_type": "markdown",
      "source": [
        "## Model 1 graph_conv_layers = [64, 64, 64], dense_layer_size=128, dropout=0\n",
        "\n",
        "Classification mode of DeepChem's GraphConvModel. Completion of Model 1 date: 3/6/2024"
      ],
      "metadata": {
        "id": "7s0I_VcWqGS8"
      }
    },
    {
      "cell_type": "code",
      "source": [
        "batch_size = 64\n",
        "batches_per_epoch = 600/batch_size\n",
        "learning_rate = dc.models.optimizers.ExponentialDecay(0.0001, 0.9, batches_per_epoch)\n",
        "\n",
        "model = dc.models.GraphConvModel(ntasks,\n",
        "                                 graph_conv_layers=[64, 64, 64],\n",
        "                                 dense_layer_size=128,\n",
        "                                 dropout=0.,\n",
        "                                 batch_normalize=True,\n",
        "                                 mode='classification',\n",
        "                                 batch_size=batch_size,\n",
        "                                 learning_rate=learning_rate,\n",
        "                                 model_dir='/content/drive/MyDrive/Colab Notebooks/FYP1/DeepChemGCNModels')\n",
        "model.fit(train_dataset)\n",
        "model.save_checkpoint()\n",
        "\n",
        "metrics = [dc.metrics.Metric(dc.metrics.accuracy_score),\n",
        "           dc.metrics.Metric(dc.metrics.f1_score),\n",
        "           dc.metrics.Metric(dc.metrics.roc_auc_score)]\n",
        "\n",
        "for metric in metrics:\n",
        "    print(\"Train\", metric.name, \":\", model.evaluate(train_dataset, [metric]))\n",
        "    print(\"Test\", metric.name, \":\", model.evaluate(test_dataset, [metric]))"
      ],
      "metadata": {
        "colab": {
          "base_uri": "https://localhost:8080/"
        },
        "id": "XQ0eXqijp5ds",
        "outputId": "863e8b75-5a78-4c97-914c-3766fcac28c2"
      },
      "execution_count": 10,
      "outputs": [
        {
          "output_type": "stream",
          "name": "stdout",
          "text": [
            "Train accuracy_score : {'accuracy_score': 0.7832310838445807}\n",
            "Test accuracy_score : {'accuracy_score': 0.7484662576687117}\n",
            "Train f1_score : {'f1_score': 0.7663139329805997}\n",
            "Test f1_score : {'f1_score': 0.7496947496947497}\n",
            "Train roc_auc_score : {'roc_auc_score': 0.8593345580730762}\n",
            "Test roc_auc_score : {'roc_auc_score': 0.8255188548412382}\n"
          ]
        }
      ]
    },
    {
      "cell_type": "markdown",
      "source": [
        "Result 3/6/2024\n",
        "- Train accuracy_score : {'accuracy_score': 0.7832310838445807}\n",
        "- Test accuracy_score : {'accuracy_score': 0.7484662576687117}\n",
        "- Train f1_score : {'f1_score': 0.7663139329805997}\n",
        "- Test f1_score : {'f1_score': 0.7496947496947497}\n",
        "- Train roc_auc_score : {'roc_auc_score': 0.8593345580730762}\n",
        "- Test roc_auc_score : {'roc_auc_score': 0.8255188548412382}"
      ],
      "metadata": {
        "id": "XmDi3dY1Lz4f"
      }
    },
    {
      "cell_type": "markdown",
      "source": [
        "### Inference"
      ],
      "metadata": {
        "id": "maYEuFIPPQ8l"
      }
    },
    {
      "cell_type": "code",
      "source": [
        "# Test case for class 0\n",
        "\n",
        "# Define a new SMILES string\n",
        "new_smiles = \"Nc1c2c(nc3c1CCC3)CCCC2\"\n",
        "\n",
        "# Create a ConvMolFeaturizer\n",
        "featurizer = dc.feat.ConvMolFeaturizer()\n",
        "\n",
        "# Convert the SMILES string to the format expected by the model\n",
        "new_mol = Chem.MolFromSmiles(new_smiles)\n",
        "new_data = featurizer.featurize([new_mol])\n",
        "\n",
        "# Create a Dataset object from the new data\n",
        "new_dataset = dc.data.NumpyDataset(new_data)\n",
        "\n",
        "# Predict the class probabilities for the new data\n",
        "new_pred_probs = model.predict(new_dataset)\n",
        "\n",
        "# Select the probabilities of the first task\n",
        "new_pred_probs = new_pred_probs[:, 0]\n",
        "\n",
        "# Convert the predicted probabilities to class labels\n",
        "new_preds = np.argmax(new_pred_probs, axis=1)\n",
        "\n",
        "print(\"Predicted probs for new data:\", new_pred_probs[0])\n",
        "print(\"Predicted class for new data:\", new_preds[0])"
      ],
      "metadata": {
        "colab": {
          "base_uri": "https://localhost:8080/"
        },
        "id": "p9rU7DniQ8Kd",
        "outputId": "88668732-d462-4a61-a83b-bf9ae4cab78b"
      },
      "execution_count": 22,
      "outputs": [
        {
          "output_type": "stream",
          "name": "stdout",
          "text": [
            "Predicted probs for new data: [0.33675307 0.6632469 ]\n",
            "Predicted class for new data: 1\n"
          ]
        }
      ]
    },
    {
      "cell_type": "code",
      "source": [
        "# Test case for class 0\n",
        "\n",
        "# Define a new SMILES string\n",
        "new_smiles = \"Cc1ccc(OP(=O)(N(C)C)N2CCOCC2)cc1\"\n",
        "\n",
        "# Create a ConvMolFeaturizer\n",
        "featurizer = dc.feat.ConvMolFeaturizer()\n",
        "\n",
        "# Convert the SMILES string to the format expected by the model\n",
        "new_mol = Chem.MolFromSmiles(new_smiles)\n",
        "new_data = featurizer.featurize([new_mol])\n",
        "\n",
        "# Create a Dataset object from the new data\n",
        "new_dataset = dc.data.NumpyDataset(new_data)\n",
        "\n",
        "# Predict the class probabilities for the new data\n",
        "new_pred_probs = model.predict(new_dataset)\n",
        "\n",
        "# Select the probabilities of the first task\n",
        "new_pred_probs = new_pred_probs[:, 0]\n",
        "\n",
        "# Convert the predicted probabilities to class labels\n",
        "new_preds = np.argmax(new_pred_probs, axis=1)\n",
        "\n",
        "print(\"Predicted probs for new data:\", new_pred_probs[0])\n",
        "print(\"Predicted class for new data:\", new_preds[0])"
      ],
      "metadata": {
        "colab": {
          "base_uri": "https://localhost:8080/"
        },
        "id": "FJsIkn7Kw4_S",
        "outputId": "c30178a5-37e6-4394-d6f1-59e59ebccff6"
      },
      "execution_count": 14,
      "outputs": [
        {
          "output_type": "stream",
          "name": "stdout",
          "text": [
            "Predicted probs for new data: [0.75419796 0.24580204]\n",
            "Predicted class for new data: 0\n"
          ]
        }
      ]
    },
    {
      "cell_type": "code",
      "source": [
        "# Test case for class 1\n",
        "\n",
        "# Define a new SMILES string\n",
        "new_smiles = \"COc1ccc2nc(NCCc3cc[n+](Cc4ccccc4)cc3)sc2c1\"\n",
        "\n",
        "# Create a ConvMolFeaturizer\n",
        "featurizer = dc.feat.ConvMolFeaturizer()\n",
        "\n",
        "# Convert the SMILES string to the format expected by the model\n",
        "new_mol = Chem.MolFromSmiles(new_smiles)\n",
        "new_data = featurizer.featurize([new_mol])\n",
        "\n",
        "# Create a Dataset object from the new data\n",
        "new_dataset = dc.data.NumpyDataset(new_data)\n",
        "\n",
        "# Predict the class probabilities for the new data\n",
        "new_pred_probs = model.predict(new_dataset)\n",
        "\n",
        "# Select the probabilities of the first task\n",
        "new_pred_probs = new_pred_probs[:, 0]\n",
        "\n",
        "# Convert the predicted probabilities to class labels\n",
        "new_preds = np.argmax(new_pred_probs, axis=1)\n",
        "\n",
        "print(\"Predicted probs for new data:\", new_pred_probs[0])\n",
        "print(\"Predicted class for new data:\", new_preds[0])"
      ],
      "metadata": {
        "colab": {
          "base_uri": "https://localhost:8080/"
        },
        "id": "Yr2Xzz5bOhnA",
        "outputId": "da7539fb-c605-49a4-db79-054d95489b2e"
      },
      "execution_count": 15,
      "outputs": [
        {
          "output_type": "stream",
          "name": "stdout",
          "text": [
            "Predicted probs for new data: [0.37005165 0.6299484 ]\n",
            "Predicted class for new data: 1\n"
          ]
        }
      ]
    },
    {
      "cell_type": "code",
      "source": [
        "# Test case with test dataset\n",
        "\n",
        "# Get the predicted probabilities\n",
        "pred_probs = model.predict(test_dataset)\n",
        "\n",
        "# Select the probabilities of the first task\n",
        "pred_probs = pred_probs[:, 0]\n",
        "\n",
        "# Convert the predicted probabilities to class labels\n",
        "preds = np.argmax(pred_probs, axis=1)\n",
        "\n",
        "print(\"Test dataset: \", test_dataset)\n",
        "print(\"Predicted probabilities: \", pred_probs)\n",
        "print(\"Predicted class: \", preds)"
      ],
      "metadata": {
        "colab": {
          "base_uri": "https://localhost:8080/"
        },
        "id": "virJMBzkvgYx",
        "outputId": "074e1562-4ab8-4782-baa2-5b711bddfa64"
      },
      "execution_count": 33,
      "outputs": [
        {
          "output_type": "stream",
          "name": "stdout",
          "text": [
            "Test dataset:  <DiskDataset X.shape: (815,), y.shape: (815, 1), w.shape: (815, 1), ids: ['Nc1c2c(nc3c1CCC3)CCCC2' 'COc1cc2[se]n(-c3ccc(CN4CCCCC4)cc3)c(=O)c2cc1OC'\n",
            " 'COc1cc2c(cc1O)CCC(C)(CCC(=O)NCCCCCCCCNc1c3c(nc4cc(Cl)ccc14)CCCC3)O2' ...\n",
            " 'COc1cc2c(cc1OC)CN(CC1CCN(Cc3cc(Br)cc(/C=N/O)c3O)CC1)CC2'\n",
            " 'O=[N+]([O-])c1ccc2nc3c(c(NCc4ccccc4)c2c1)CCCC3'\n",
            " 'NC(=O)c1sc(-c2ccnc(NC(=O)C3CC3)c2)nc1OCCCC1CCN(Cc2ccccc2F)CC1'], task_names: ['single-class-label']>\n",
            "Predicted probabilities:  [[0.33675304 0.66324687]\n",
            " [0.5754449  0.4245551 ]\n",
            " [0.04426827 0.9557316 ]\n",
            " ...\n",
            " [0.6626042  0.33739573]\n",
            " [0.39582223 0.6041778 ]\n",
            " [0.43885875 0.56114125]]\n",
            "Predicted class:  [1 0 1 1 0 1 1 1 0 1 1 0 1 1 1 0 1 1 1 0 1 0 1 1 1 1 1 0 0 0 1 1 1 1 1 1 1\n",
            " 1 0 1 1 1 1 0 1 1 1 1 0 1 1 1 1 0 0 0 0 1 0 0 1 0 1 1 1 0 1 0 1 0 0 1 0 0\n",
            " 1 0 1 0 1 0 0 0 0 0 1 1 0 1 0 1 0 0 1 1 1 0 1 0 1 0 0 1 1 0 1 1 0 0 1 1 1\n",
            " 0 0 0 1 0 1 0 0 0 0 1 0 1 0 1 1 1 0 0 0 0 1 1 0 0 1 1 0 0 1 1 1 1 0 1 0 1\n",
            " 1 1 1 1 0 1 0 0 0 1 1 1 0 1 0 0 1 0 0 0 1 0 0 0 0 1 0 1 1 1 0 0 0 1 1 1 1\n",
            " 0 0 1 1 1 1 1 1 0 0 0 0 1 0 0 1 1 0 1 1 0 0 0 0 1 0 0 0 0 1 0 1 0 1 1 0 1\n",
            " 1 1 1 0 1 1 0 0 0 0 1 1 1 0 0 0 1 1 0 1 0 1 1 1 1 0 1 0 0 1 1 1 0 0 0 0 1\n",
            " 0 1 0 0 1 1 0 1 1 1 0 1 1 0 1 1 0 0 1 0 1 1 1 1 1 1 1 0 1 0 1 0 1 0 1 0 0\n",
            " 0 1 1 0 1 1 1 0 0 1 1 1 0 0 1 1 1 0 1 1 1 1 1 0 1 1 0 0 1 1 1 0 0 0 0 1 1\n",
            " 1 1 1 1 0 0 0 1 1 1 0 0 1 0 1 1 1 0 1 0 1 1 0 1 0 0 1 0 0 1 0 0 1 0 1 0 1\n",
            " 1 0 1 1 0 0 0 1 0 1 0 0 0 0 0 0 1 0 1 0 0 0 1 1 0 0 0 1 0 1 0 1 0 1 1 1 0\n",
            " 1 1 1 0 1 1 1 0 0 0 1 0 1 1 0 1 1 1 1 1 1 0 0 1 1 0 1 0 0 0 1 1 0 1 1 1 0\n",
            " 0 1 0 0 0 0 1 1 1 1 1 1 0 1 0 1 1 0 0 1 0 1 0 0 1 1 0 0 0 0 1 1 0 1 1 0 0\n",
            " 1 1 0 0 0 1 1 1 0 1 1 1 1 0 1 0 0 1 1 1 0 0 1 1 1 1 1 0 0 0 0 0 0 1 1 0 0\n",
            " 1 1 0 0 0 1 0 1 0 0 0 1 1 1 1 0 1 0 0 1 0 0 1 1 0 0 1 1 1 1 0 0 1 1 0 0 0\n",
            " 0 0 0 1 0 1 0 1 1 0 0 1 0 1 0 1 1 1 1 0 0 0 1 0 0 1 1 1 1 1 1 1 0 0 0 1 1\n",
            " 0 1 1 0 0 0 0 1 1 1 0 0 1 0 0 1 1 1 1 0 0 1 0 1 0 0 0 0 0 1 1 0 0 0 1 0 1\n",
            " 1 1 1 1 1 0 0 1 0 0 0 1 0 1 0 0 0 0 0 1 1 1 1 0 0 1 1 1 1 0 1 0 1 0 1 0 1\n",
            " 1 1 0 1 0 1 1 0 1 0 0 1 1 1 0 0 0 1 0 0 0 0 1 1 1 1 0 0 1 1 0 1 0 0 1 1 0\n",
            " 0 0 1 0 0 1 1 1 0 1 1 1 0 1 1 0 0 1 1 1 0 0 0 0 0 1 0 1 1 1 1 0 1 1 1 0 1\n",
            " 0 0 0 0 0 0 1 0 0 1 0 0 0 1 0 0 0 1 1 0 1 0 1 1 0 0 0 0 0 1 1 1 0 0 0 0 1\n",
            " 1 1 1 0 1 1 1 1 1 0 0 0 1 0 0 0 1 0 0 0 0 1 0 1 0 0 0 1 1 0 1 0 1 1 0 0 1\n",
            " 1]\n"
          ]
        }
      ]
    },
    {
      "cell_type": "markdown",
      "source": [
        "# Optional (Just for understanding)"
      ],
      "metadata": {
        "id": "QqSbc3goWU-J"
      }
    },
    {
      "cell_type": "markdown",
      "source": [
        "## Visualize the use of ConvMolFeaturizer\n",
        "\n",
        "Featurize the Data: Convert the SMILES strings into graph-based features using the ConvMolFeaturizer."
      ],
      "metadata": {
        "id": "lqLEeAYnRuXu"
      }
    },
    {
      "cell_type": "code",
      "source": [
        "# Visualize the use of ConvMolFeaturizer\n",
        "\n",
        "from deepchem.feat import ConvMolFeaturizer\n",
        "from rdkit import Chem\n",
        "import networkx as nx\n",
        "import matplotlib.pyplot as plt\n",
        "\n",
        "# Example SMILES string\n",
        "smiles = 'CC(=O)OC1=CC=CC=C1C(=O)O'\n",
        "\n",
        "# Featurize the SMILES string\n",
        "featurizer = ConvMolFeaturizer()\n",
        "mol_features = featurizer.featurize([smiles])[0]\n",
        "\n",
        "# Extract the molecule\n",
        "rdkit_mol = Chem.MolFromSmiles(smiles)\n",
        "\n",
        "# Create a NetworkX graph from RDKit molecule\n",
        "G = nx.Graph()\n",
        "for atom in rdkit_mol.GetAtoms():\n",
        "    G.add_node(atom.GetIdx(), label=atom.GetSymbol())\n",
        "\n",
        "for bond in rdkit_mol.GetBonds():\n",
        "    G.add_edge(bond.GetBeginAtomIdx(), bond.GetEndAtomIdx(), order=bond.GetBondType())\n",
        "\n",
        "# Define a color map for atoms (optional)\n",
        "atom_colors = {\n",
        "    'H': 'white',\n",
        "    'C': 'black',\n",
        "    'O': 'red',\n",
        "    'N': 'blue',\n",
        "    'S': 'yellow',\n",
        "    'F': 'green',\n",
        "    'Cl': 'green',\n",
        "    'Br': 'brown',\n",
        "    'I': 'purple'\n",
        "}\n",
        "\n",
        "# Get atom symbols for coloring\n",
        "colors = [atom_colors[rdkit_mol.GetAtomWithIdx(i).GetSymbol()] for i in G.nodes()]\n",
        "\n",
        "# Draw the graph\n",
        "pos = nx.spring_layout(G)  # positions for all nodes\n",
        "plt.figure(figsize=(8, 8))\n",
        "nx.draw_networkx_nodes(G, pos, node_color=colors, node_size=500)\n",
        "nx.draw_networkx_edges(G, pos, width=1.0, alpha=0.5)\n",
        "nx.draw_networkx_labels(G, pos, {i: rdkit_mol.GetAtomWithIdx(i).GetSymbol() for i in G.nodes()})\n",
        "plt.title(\"Molecular Graph for SMILES: {}\".format(smiles))\n",
        "plt.show()"
      ],
      "metadata": {
        "colab": {
          "base_uri": "https://localhost:8080/",
          "height": 675
        },
        "id": "kZLV-XnMQxpR",
        "outputId": "00a8aff3-6d47-4e88-c1a7-2af9f76cc6eb"
      },
      "execution_count": 17,
      "outputs": [
        {
          "output_type": "display_data",
          "data": {
            "text/plain": [
              "<Figure size 800x800 with 1 Axes>"
            ],
            "image/png": "[encoded data removed]"
          },
          "metadata": {}
        }
      ]
    }
  ]
}