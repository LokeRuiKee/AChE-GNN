{
  "nbformat": 4,
  "nbformat_minor": 0,
  "metadata": {
    "colab": {
      "provenance": [],
      "authorship_tag": "ABX9TyNoWBG5hY7kyQGm0YV/UJjl",
      "include_colab_link": true
    },
    "kernelspec": {
      "name": "python3",
      "display_name": "Python 3"
    },
    "language_info": {
      "name": "python"
    }
  },
  "cells": [
    {
      "cell_type": "markdown",
      "metadata": {
        "id": "view-in-github",
        "colab_type": "text"
      },
      "source": [
        "<a href=\"https://colab.research.google.com/github/LokeRuiKee/AChE-GNN/blob/main/DC_GraphConv_Classification_default.ipynb\" target=\"_parent\"><img src=\"https://colab.research.google.com/assets/colab-badge.svg\" alt=\"Open In Colab\"/></a>"
      ]
    },
    {
      "cell_type": "markdown",
      "source": [
        "\n",
        "1. Data splitting: 80% train, 20% test\n",
        "2. default parameter"
      ],
      "metadata": {
        "id": "v_zdqtH0pUgG"
      }
    },
    {
      "cell_type": "code",
      "source": [
        "%%capture\n",
        "!pip install rdkit\n",
        "!pip install colorama\n",
        "!pip install deepchem"
      ],
      "metadata": {
        "id": "GLdLdEJMnp4s"
      },
      "execution_count": 1,
      "outputs": []
    },
    {
      "cell_type": "code",
      "source": [
        "from google.colab import drive\n",
        "drive.mount('/content/drive')"
      ],
      "metadata": {
        "colab": {
          "base_uri": "https://localhost:8080/"
        },
        "id": "DGLe-LuRexN0",
        "outputId": "e985fb1c-805f-4f35-b801-844eed5f704b"
      },
      "execution_count": 2,
      "outputs": [
        {
          "output_type": "stream",
          "name": "stdout",
          "text": [
            "Mounted at /content/drive\n"
          ]
        }
      ]
    },
    {
      "cell_type": "markdown",
      "source": [
        "# Dataset: Load, Split, Featurize"
      ],
      "metadata": {
        "id": "bcDQJOxDpy4z"
      }
    },
    {
      "cell_type": "code",
      "execution_count": 8,
      "metadata": {
        "id": "G9QhHdameohA"
      },
      "outputs": [],
      "source": [
        "import pandas as pd\n",
        "import deepchem as dc\n",
        "from sklearn.model_selection import train_test_split\n",
        "import os\n",
        "import numpy as np\n",
        "from sklearn.metrics import accuracy_score, f1_score, roc_auc_score\n",
        "\n",
        "# Load the dataset\n",
        "file_path = \"/content/drive/MyDrive/Colab Notebooks/Dataset/tx2c00283_si_002/SupplementalFiles/Human_dataset_1micromolar.xlsx\"\n",
        "df = pd.read_excel(file_path)\n",
        "\n",
        "# Specify the columns\n",
        "smiles_column = \"SMILES\"\n",
        "y_column = \"single-class-label\"\n",
        "\n",
        "# Split the data into features and target\n",
        "X = df[smiles_column]\n",
        "y = df[y_column]\n",
        "\n",
        "# Split the data into training and test sets (80%, 20%)\n",
        "X_train, X_test, y_train, y_test = train_test_split(X, y, test_size=0.2, random_state=42)\n",
        "\n",
        "# Concatenate the features and target for each set\n",
        "train_data = pd.concat([X_train, y_train], axis=1)\n",
        "test_data = pd.concat([X_test, y_test], axis=1)\n",
        "\n",
        "# Define the directory and file paths\n",
        "base_dir = \"/content/drive/MyDrive/Colab Notebooks/Dataset/data/two-way-split\"\n",
        "train_file = os.path.join(base_dir, \"pdY_train.csv\")\n",
        "test_file = os.path.join(base_dir, \"pdY_test.csv\")\n",
        "\n",
        "# Create the directory if it doesn't exist\n",
        "os.makedirs(base_dir, exist_ok=True)\n",
        "\n",
        "# Save the data to CSV files\n",
        "train_data.to_csv(train_file, index=False)\n",
        "test_data.to_csv(test_file, index=False)\n",
        "\n",
        "# Load and Featurize the data using DeepChem\n",
        "tasks = [\"single-class-label\"]\n",
        "ntasks = len(tasks)\n",
        "featurizer_func = dc.feat.ConvMolFeaturizer()\n",
        "loader = dc.data.CSVLoader(tasks=tasks, feature_field='SMILES', featurizer=featurizer_func)\n",
        "\n",
        "train_dataset = loader.create_dataset(train_file)\n",
        "test_dataset = loader.create_dataset(test_file)"
      ]
    },
    {
      "cell_type": "markdown",
      "source": [
        "# Model Construction"
      ],
      "metadata": {
        "id": "EPKcDYE_arg6"
      }
    },
    {
      "cell_type": "markdown",
      "source": [
        "## default model"
      ],
      "metadata": {
        "id": "xrV2tqIeMfJ9"
      }
    },
    {
      "cell_type": "code",
      "source": [
        "# Initialize model\n",
        "model = dc.models.GraphConvModel(mode='classification')\n",
        "\n",
        "# Train model\n",
        "model.fit(train_dataset)\n",
        "\n",
        "# Evaluate model\n",
        "metrics = [dc.metrics.Metric(dc.metrics.accuracy_score),\n",
        "           dc.metrics.Metric(dc.metrics.f1_score),\n",
        "           dc.metrics.Metric(dc.metrics.roc_auc_score)]\n",
        "\n",
        "for metric in metrics:\n",
        "    print(\"Train\", metric.name, \":\", model.evaluate(train_dataset, [metric]))\n",
        "    print(\"Test\", metric.name, \":\", model.evaluate(test_dataset, [metric]))"
      ],
      "metadata": {
        "colab": {
          "base_uri": "https://localhost:8080/"
        },
        "id": "jzPVBKrI_Aec",
        "outputId": "6b24bb1f-8ea0-48ab-8b6d-ada462bd0a7c"
      },
      "execution_count": 9,
      "outputs": [
        {
          "output_type": "stream",
          "name": "stdout",
          "text": [
            "Train accuracy_score : {'accuracy_score': 0.8033742331288344}\n",
            "Test accuracy_score : {'accuracy_score': 0.7656441717791411}\n",
            "Train f1_score : {'f1_score': 0.7700035880875493}\n",
            "Test f1_score : {'f1_score': 0.7415426251691475}\n",
            "Train roc_auc_score : {'roc_auc_score': 0.8939798300673607}\n",
            "Test roc_auc_score : {'roc_auc_score': 0.8593936543540392}\n"
          ]
        }
      ]
    },
    {
      "cell_type": "code",
      "source": [
        "model.model.summary()"
      ],
      "metadata": {
        "colab": {
          "base_uri": "https://localhost:8080/"
        },
        "id": "MDyRn7Y8DFVc",
        "outputId": "e98dcca9-6e80-49c1-914c-56dd504f25c9"
      },
      "execution_count": 10,
      "outputs": [
        {
          "output_type": "stream",
          "name": "stdout",
          "text": [
            "Model: \"private__graph_conv_keras_model_2\"\n",
            "_________________________________________________________________\n",
            " Layer (type)                Output Shape              Param #   \n",
            "=================================================================\n",
            " graph_conv_4 (GraphConv)    multiple                  102144    \n",
            "                                                                 \n",
            " graph_conv_5 (GraphConv)    multiple                  87360     \n",
            "                                                                 \n",
            " batch_normalization_6 (Bat  multiple                  256       \n",
            " chNormalization)                                                \n",
            "                                                                 \n",
            " batch_normalization_7 (Bat  multiple                  256       \n",
            " chNormalization)                                                \n",
            "                                                                 \n",
            " batch_normalization_8 (Bat  multiple                  512       \n",
            " chNormalization)                                                \n",
            "                                                                 \n",
            " graph_pool_4 (GraphPool)    multiple                  0         \n",
            "                                                                 \n",
            " graph_pool_5 (GraphPool)    multiple                  0         \n",
            "                                                                 \n",
            " dense_4 (Dense)             multiple                  8320      \n",
            "                                                                 \n",
            " graph_gather_2 (GraphGathe  multiple                  0         \n",
            " r)                                                              \n",
            "                                                                 \n",
            " trim_graph_output_2 (TrimG  multiple                  0         \n",
            " raphOutput)                                                     \n",
            "                                                                 \n",
            " dense_5 (Dense)             multiple                  514       \n",
            "                                                                 \n",
            " reshape_2 (Reshape)         multiple                  0         \n",
            "                                                                 \n",
            " softmax_2 (Softmax)         multiple                  0         \n",
            "                                                                 \n",
            "=================================================================\n",
            "Total params: 199362 (778.76 KB)\n",
            "Trainable params: 198850 (776.76 KB)\n",
            "Non-trainable params: 512 (2.00 KB)\n",
            "_________________________________________________________________\n"
          ]
        }
      ]
    },
    {
      "cell_type": "code",
      "source": [],
      "metadata": {
        "id": "4N06y3Txgsy-"
      },
      "execution_count": null,
      "outputs": []
    }
  ]
}