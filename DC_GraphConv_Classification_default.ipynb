{
  "cells": [
    {
      "cell_type": "markdown",
      "metadata": {
        "colab_type": "text",
        "id": "view-in-github"
      },
      "source": [
        "<a href=\"https://colab.research.google.com/github/LokeRuiKee/AChE-GNN/blob/main/DC_GraphConv_Classification_default.ipynb\" target=\"_parent\"><img src=\"https://colab.research.google.com/assets/colab-badge.svg\" alt=\"Open In Colab\"/></a>"
      ]
    },
    {
      "cell_type": "markdown",
      "metadata": {
        "id": "v_zdqtH0pUgG"
      },
      "source": [
        "\n",
        "1. Data splitting: 80% train, 20% test\n",
        "2. default parameter"
      ]
    },
    {
      "cell_type": "code",
      "execution_count": 1,
      "metadata": {
        "id": "GLdLdEJMnp4s"
      },
      "outputs": [],
      "source": [
        "%%capture\n",
        "!pip install rdkit\n",
        "!pip install colorama\n",
        "!pip install deepchem"
      ]
    },
    {
      "cell_type": "code",
      "execution_count": 2,
      "metadata": {
        "colab": {
          "base_uri": "https://localhost:8080/"
        },
        "id": "DGLe-LuRexN0",
        "outputId": "95741fb8-a8c4-48e7-a1a4-63f244e25dbf"
      },
      "outputs": [
        {
          "name": "stdout",
          "output_type": "stream",
          "text": [
            "Drive already mounted at /content/drive; to attempt to forcibly remount, call drive.mount(\"/content/drive\", force_remount=True).\n"
          ]
        }
      ],
      "source": [
        "from google.colab import drive\n",
        "drive.mount('/content/drive')"
      ]
    },
    {
      "cell_type": "markdown",
      "metadata": {
        "id": "bcDQJOxDpy4z"
      },
      "source": [
        "# Dataset: Load, Split, Featurize"
      ]
    },
    {
      "cell_type": "markdown",
      "metadata": {
        "colab": {
          "base_uri": "https://localhost:8080/"
        },
        "id": "G9QhHdameohA",
        "outputId": "0441fe05-743f-4315-a4ea-414058f0588a"
      },
      "source": [
        "import pandas as pd\n",
        "import deepchem as dc\n",
        "from sklearn.model_selection import train_test_split\n",
        "import os\n",
        "import numpy as np\n",
        "from sklearn.metrics import accuracy_score, f1_score, roc_auc_score\n",
        "\n",
        "# Load the dataset\n",
        "file_path = \"/content/drive/MyDrive/Colab Notebooks/Dataset/tx2c00283_si_002/SupplementalFiles/Human_dataset_1micromolar.xlsx\"\n",
        "df = pd.read_excel(file_path)\n",
        "\n",
        "# Specify the columns\n",
        "smiles_column = \"SMILES\"\n",
        "y_column = \"single-class-label\"\n",
        "\n",
        "# Split the data into features and target\n",
        "X = df[smiles_column]\n",
        "y = df[y_column]\n",
        "\n",
        "# Split the data into training and test sets (80%, 20%)\n",
        "X_train, X_test, y_train, y_test = train_test_split(X, y, test_size=0.2, random_state=42)\n",
        "\n",
        "# Concatenate the features and target for each set\n",
        "train_data = pd.concat([X_train, y_train], axis=1)\n",
        "test_data = pd.concat([X_test, y_test], axis=1)\n",
        "\n",
        "# Define the directory and file paths\n",
        "base_dir = \"/content/drive/MyDrive/Colab Notebooks/Dataset/data/two-way-split\"\n",
        "train_file = os.path.join(base_dir, \"pdY_train.csv\")\n",
        "test_file = os.path.join(base_dir, \"pdY_test.csv\")\n",
        "\n",
        "# Create the directory if it doesn't exist\n",
        "os.makedirs(base_dir, exist_ok=True)\n",
        "\n",
        "# Save the data to CSV files\n",
        "train_data.to_csv(train_file, index=False)\n",
        "test_data.to_csv(test_file, index=False)\n",
        "\n",
        "# Load and Featurize the data using DeepChem\n",
        "tasks = [\"single-class-label\"]\n",
        "ntasks = len(tasks)\n",
        "featurizer_func = dc.feat.ConvMolFeaturizer()\n",
        "loader = dc.data.CSVLoader(tasks=tasks, feature_field='SMILES', featurizer=featurizer_func)\n",
        "\n",
        "train_dataset = loader.create_dataset(train_file)\n",
        "test_dataset = loader.create_dataset(test_file)"
      ]
    },
    {
      "cell_type": "markdown",
      "metadata": {
        "id": "EPKcDYE_arg6"
      },
      "source": [
        "# Model Construction"
      ]
    },
    {
      "cell_type": "markdown",
      "metadata": {
        "id": "xrV2tqIeMfJ9"
      },
      "source": [
        "## default model"
      ]
    },
    {
      "cell_type": "code",
      "execution_count": 5,
      "metadata": {
        "colab": {
          "base_uri": "https://localhost:8080/"
        },
        "id": "jzPVBKrI_Aec",
        "outputId": "10302eaa-29e4-46c9-807f-b876117474fd"
      },
      "outputs": [
        {
          "name": "stdout",
          "output_type": "stream",
          "text": [
            "Train accuracy_score : {'accuracy_score': 0.8279141104294478}\n",
            "Test accuracy_score : {'accuracy_score': 0.7926380368098159}\n",
            "Train f1_score : {'f1_score': 0.8059494984434452}\n",
            "Test f1_score : {'f1_score': 0.7874213836477986}\n",
            "Train roc_auc_score : {'roc_auc_score': 0.9066545468462951}\n",
            "Test roc_auc_score : {'roc_auc_score': 0.8675940330185835}\n"
          ]
        }
      ],
      "source": [
        "# Initialize model\n",
        "model = dc.models.GraphConvModel(n_tasks=ntasks, mode='classification')\n",
        "\n",
        "# Train model\n",
        "model.fit(train_dataset)\n",
        "\n",
        "# Evaluate model\n",
        "metrics = [dc.metrics.Metric(dc.metrics.accuracy_score),\n",
        "           dc.metrics.Metric(dc.metrics.f1_score),\n",
        "           dc.metrics.Metric(dc.metrics.roc_auc_score)]\n",
        "\n",
        "for metric in metrics:\n",
        "    print(\"Train\", metric.name, \":\", model.evaluate(train_dataset, [metric]))\n",
        "    print(\"Test\", metric.name, \":\", model.evaluate(test_dataset, [metric]))"
      ]
    },
    {
      "cell_type": "code",
      "execution_count": 6,
      "metadata": {
        "colab": {
          "base_uri": "https://localhost:8080/"
        },
        "id": "MDyRn7Y8DFVc",
        "outputId": "decd043c-800b-4e91-a622-ca285b4d8587"
      },
      "outputs": [
        {
          "name": "stdout",
          "output_type": "stream",
          "text": [
            "Model: \"private__graph_conv_keras_model\"\n",
            "_________________________________________________________________\n",
            " Layer (type)                Output Shape              Param #   \n",
            "=================================================================\n",
            " graph_conv (GraphConv)      multiple                  102144    \n",
            "                                                                 \n",
            " graph_conv_1 (GraphConv)    multiple                  87360     \n",
            "                                                                 \n",
            " batch_normalization (Batch  multiple                  256       \n",
            " Normalization)                                                  \n",
            "                                                                 \n",
            " batch_normalization_1 (Bat  multiple                  256       \n",
            " chNormalization)                                                \n",
            "                                                                 \n",
            " batch_normalization_2 (Bat  multiple                  512       \n",
            " chNormalization)                                                \n",
            "                                                                 \n",
            " graph_pool (GraphPool)      multiple                  0         \n",
            "                                                                 \n",
            " graph_pool_1 (GraphPool)    multiple                  0         \n",
            "                                                                 \n",
            " dense (Dense)               multiple                  8320      \n",
            "                                                                 \n",
            " graph_gather (GraphGather)  multiple                  0         \n",
            "                                                                 \n",
            " trim_graph_output (TrimGra  multiple                  0         \n",
            " phOutput)                                                       \n",
            "                                                                 \n",
            " dense_1 (Dense)             multiple                  514       \n",
            "                                                                 \n",
            " reshape (Reshape)           multiple                  0         \n",
            "                                                                 \n",
            " softmax (Softmax)           multiple                  0         \n",
            "                                                                 \n",
            "=================================================================\n",
            "Total params: 199362 (778.76 KB)\n",
            "Trainable params: 198850 (776.76 KB)\n",
            "Non-trainable params: 512 (2.00 KB)\n",
            "_________________________________________________________________\n"
          ]
        }
      ],
      "source": [
        "model.model.summary()"
      ]
    }
  ],
  "metadata": {
    "colab": {
      "authorship_tag": "ABX9TyOanrfobPCcJEtUUiOWoB2U",
      "include_colab_link": true,
      "provenance": [],
      "toc_visible": true
    },
    "kernelspec": {
      "display_name": "Python 3",
      "name": "python3"
    },
    "language_info": {
      "name": "python"
    }
  },
  "nbformat": 4,
  "nbformat_minor": 0
}
