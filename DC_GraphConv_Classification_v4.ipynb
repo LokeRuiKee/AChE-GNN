{
  "nbformat": 4,
  "nbformat_minor": 0,
  "metadata": {
    "colab": {
      "provenance": [],
      "authorship_tag": "ABX9TyMRmsGeJqTiqwBShCXezRpf",
      "include_colab_link": true
    },
    "kernelspec": {
      "name": "python3",
      "display_name": "Python 3"
    },
    "language_info": {
      "name": "python"
    }
  },
  "cells": [
    {
      "cell_type": "markdown",
      "metadata": {
        "id": "view-in-github",
        "colab_type": "text"
      },
      "source": [
        "<a href=\"https://colab.research.google.com/github/LokeRuiKee/AChE-GNN/blob/main/DC_GraphConv_Classification_v4.ipynb\" target=\"_parent\"><img src=\"https://colab.research.google.com/assets/colab-badge.svg\" alt=\"Open In Colab\"/></a>"
      ]
    },
    {
      "cell_type": "markdown",
      "source": [
        "v2 improvements\n",
        "1. train validation test set by 70%, 20%, 10% respectively"
      ],
      "metadata": {
        "id": "v_zdqtH0pUgG"
      }
    },
    {
      "cell_type": "code",
      "source": [
        "%%capture\n",
        "!pip install rdkit\n",
        "!pip install colorama\n",
        "!pip install deepchem"
      ],
      "metadata": {
        "id": "GLdLdEJMnp4s"
      },
      "execution_count": 1,
      "outputs": []
    },
    {
      "cell_type": "code",
      "source": [
        "from google.colab import drive\n",
        "drive.mount('/content/drive')"
      ],
      "metadata": {
        "colab": {
          "base_uri": "https://localhost:8080/"
        },
        "id": "DGLe-LuRexN0",
        "outputId": "218a2dcd-1f26-431c-f055-d321c0312414"
      },
      "execution_count": 2,
      "outputs": [
        {
          "output_type": "stream",
          "name": "stdout",
          "text": [
            "Mounted at /content/drive\n"
          ]
        }
      ]
    },
    {
      "cell_type": "markdown",
      "source": [
        "# Dataset: Load, Split, Featurize"
      ],
      "metadata": {
        "id": "bcDQJOxDpy4z"
      }
    },
    {
      "cell_type": "code",
      "execution_count": 3,
      "metadata": {
        "id": "G9QhHdameohA",
        "colab": {
          "base_uri": "https://localhost:8080/"
        },
        "outputId": "1f65cec3-fa96-47da-9cda-4c4d0cd1bedc"
      },
      "outputs": [
        {
          "output_type": "stream",
          "name": "stderr",
          "text": [
            "WARNING:deepchem.feat.molecule_featurizers.rdkit_descriptors:No normalization for SPS. Feature removed!\n",
            "WARNING:deepchem.feat.molecule_featurizers.rdkit_descriptors:No normalization for AvgIpc. Feature removed!\n",
            "WARNING:tensorflow:From /usr/local/lib/python3.10/dist-packages/tensorflow/python/util/deprecation.py:588: calling function (from tensorflow.python.eager.polymorphic_function.polymorphic_function) with experimental_relax_shapes is deprecated and will be removed in a future version.\n",
            "Instructions for updating:\n",
            "experimental_relax_shapes is deprecated, use reduce_retracing instead\n",
            "WARNING:deepchem.models.torch_models:Skipped loading modules with pytorch-geometric dependency, missing a dependency. No module named 'torch_geometric'\n",
            "WARNING:deepchem.models:Skipped loading modules with pytorch-geometric dependency, missing a dependency. cannot import name 'DMPNN' from 'deepchem.models.torch_models' (/usr/local/lib/python3.10/dist-packages/deepchem/models/torch_models/__init__.py)\n",
            "WARNING:deepchem.models:Skipped loading modules with pytorch-lightning dependency, missing a dependency. No module named 'lightning'\n",
            "WARNING:deepchem.models:Skipped loading some Jax models, missing a dependency. No module named 'haiku'\n"
          ]
        }
      ],
      "source": [
        "import pandas as pd\n",
        "import deepchem as dc\n",
        "from sklearn.model_selection import train_test_split\n",
        "import os\n",
        "import numpy as np\n",
        "from sklearn.metrics import accuracy_score, f1_score, roc_auc_score\n",
        "\n",
        "# Load the dataset\n",
        "file_path = \"/content/drive/MyDrive/Colab Notebooks/Dataset/tx2c00283_si_002/SupplementalFiles/Human_dataset_1micromolar.xlsx\"\n",
        "df = pd.read_excel(file_path)\n",
        "\n",
        "# Specify the columns\n",
        "smiles_column = \"SMILES\"\n",
        "y_column = \"single-class-label\"\n",
        "\n",
        "# Split the data into features and target\n",
        "X = df[smiles_column]\n",
        "y = df[y_column]\n",
        "\n",
        "# Split the data into training, validation, and test sets (70%, 20%, 10%)\n",
        "X_train_val, X_test, y_train_val, y_test = train_test_split(X, y, test_size=0.1, random_state=42)\n",
        "X_train, X_val, y_train, y_val = train_test_split(X_train_val, y_train_val, test_size=0.2, random_state=42)\n",
        "\n",
        "# Concatenate the features and target for each set\n",
        "train_data = pd.concat([X_train, y_train], axis=1)\n",
        "val_data = pd.concat([X_val, y_val], axis=1)\n",
        "test_data = pd.concat([X_test, y_test], axis=1)\n",
        "\n",
        "# Define the directory and file paths\n",
        "base_dir = \"/content/drive/MyDrive/Colab Notebooks/Dataset/data/process\"\n",
        "train_file = os.path.join(base_dir, \"pdY_train.csv\")\n",
        "val_file = os.path.join(base_dir, \"pdY_val.csv\")\n",
        "test_file = os.path.join(base_dir, \"pdY_test.csv\")\n",
        "\n",
        "# Create the directory if it doesn't exist\n",
        "os.makedirs(base_dir, exist_ok=True)\n",
        "\n",
        "# Save the data to CSV files\n",
        "train_data.to_csv(train_file, index=False)\n",
        "val_data.to_csv(val_file, index=False)\n",
        "test_data.to_csv(test_file, index=False)\n",
        "\n",
        "# Load and Featurize the data using DeepChem\n",
        "tasks = [\"single-class-label\"]\n",
        "ntasks = len(tasks)\n",
        "featurizer_func = dc.feat.ConvMolFeaturizer()\n",
        "loader = dc.data.CSVLoader(tasks=tasks, feature_field='SMILES', featurizer=featurizer_func)\n",
        "\n",
        "train_dataset = loader.create_dataset(train_file)\n",
        "val_dataset = loader.create_dataset(val_file)\n",
        "test_dataset = loader.create_dataset(test_file)"
      ]
    },
    {
      "cell_type": "markdown",
      "source": [
        "# Model Construction"
      ],
      "metadata": {
        "id": "EPKcDYE_arg6"
      }
    },
    {
      "cell_type": "markdown",
      "source": [
        "## Model 1 graph_conv_layers = [64, 64, 64], dense_layer_size=128, dropout=0\n",
        "\n",
        "Classification mode of DeepChem's GraphConvModel. Completion of Model 1 date: 3/6/2024"
      ],
      "metadata": {
        "id": "7s0I_VcWqGS8"
      }
    },
    {
      "cell_type": "code",
      "source": [
        "batch_size = 64\n",
        "batches_per_epoch = 600/batch_size\n",
        "learning_rate = dc.models.optimizers.ExponentialDecay(0.0001, 0.9, batches_per_epoch)\n",
        "\n",
        "model = dc.models.GraphConvModel(ntasks,\n",
        "                                 graph_conv_layers=[64, 64, 64],\n",
        "                                 dense_layer_size=128,\n",
        "                                 dropout=0.,\n",
        "                                 batch_normalize=True,\n",
        "                                 mode='classification',\n",
        "                                 batch_size=batch_size,\n",
        "                                 learning_rate=learning_rate,\n",
        "                                 model_dir='/content/drive/MyDrive/Colab Notebooks/FYP1/DeepChemGCNModels')\n",
        "model.fit(train_dataset)\n",
        "model.save_checkpoint()"
      ],
      "metadata": {
        "id": "XQ0eXqijp5ds"
      },
      "execution_count": 22,
      "outputs": []
    },
    {
      "cell_type": "code",
      "source": [
        "metrics = [dc.metrics.Metric(dc.metrics.accuracy_score),\n",
        "           dc.metrics.Metric(dc.metrics.f1_score),\n",
        "           dc.metrics.Metric(dc.metrics.roc_auc_score)]\n",
        "\n",
        "for metric in metrics:\n",
        "    print(\"Train\", metric.name, \":\", model.evaluate(train_dataset, [metric]))\n",
        "    print(\"Test\", metric.name, \":\", model.evaluate(test_dataset, [metric]))"
      ],
      "metadata": {
        "colab": {
          "base_uri": "https://localhost:8080/"
        },
        "id": "R_lghUTd0HDc",
        "outputId": "4ac16af4-a005-42f8-ec3e-948429ad9834"
      },
      "execution_count": 23,
      "outputs": [
        {
          "output_type": "stream",
          "name": "stdout",
          "text": [
            "Train accuracy_score : {'accuracy_score': 0.7316503038803179}\n",
            "Test accuracy_score : {'accuracy_score': 0.7230392156862745}\n",
            "Train f1_score : {'f1_score': 0.71751968503937}\n",
            "Test f1_score : {'f1_score': 0.7328605200945627}\n",
            "Train roc_auc_score : {'roc_auc_score': 0.8173833964520629}\n",
            "Test roc_auc_score : {'roc_auc_score': 0.8094471153846153}\n"
          ]
        }
      ]
    },
    {
      "cell_type": "code",
      "source": [
        "model.model.summary()"
      ],
      "metadata": {
        "colab": {
          "base_uri": "https://localhost:8080/"
        },
        "id": "NcbKt07nD1QD",
        "outputId": "9235f456-8b95-428d-95f8-1eea17e9f84a"
      },
      "execution_count": 24,
      "outputs": [
        {
          "output_type": "stream",
          "name": "stdout",
          "text": [
            "Model: \"private__graph_conv_keras_model_12\"\n",
            "_________________________________________________________________\n",
            " Layer (type)                Output Shape              Param #   \n",
            "=================================================================\n",
            " graph_conv_35 (GraphConv)   multiple                  102144    \n",
            "                                                                 \n",
            " graph_conv_36 (GraphConv)   multiple                  87360     \n",
            "                                                                 \n",
            " graph_conv_37 (GraphConv)   multiple                  87360     \n",
            "                                                                 \n",
            " batch_normalization_47 (Ba  multiple                  256       \n",
            " tchNormalization)                                               \n",
            "                                                                 \n",
            " batch_normalization_48 (Ba  multiple                  256       \n",
            " tchNormalization)                                               \n",
            "                                                                 \n",
            " batch_normalization_49 (Ba  multiple                  256       \n",
            " tchNormalization)                                               \n",
            "                                                                 \n",
            " batch_normalization_50 (Ba  multiple                  512       \n",
            " tchNormalization)                                               \n",
            "                                                                 \n",
            " graph_pool_35 (GraphPool)   multiple                  0         \n",
            "                                                                 \n",
            " graph_pool_36 (GraphPool)   multiple                  0         \n",
            "                                                                 \n",
            " graph_pool_37 (GraphPool)   multiple                  0         \n",
            "                                                                 \n",
            " dense_24 (Dense)            multiple                  8320      \n",
            "                                                                 \n",
            " graph_gather_12 (GraphGath  multiple                  0         \n",
            " er)                                                             \n",
            "                                                                 \n",
            " trim_graph_output_12 (Trim  multiple                  0         \n",
            " GraphOutput)                                                    \n",
            "                                                                 \n",
            " dense_25 (Dense)            multiple                  514       \n",
            "                                                                 \n",
            " reshape_12 (Reshape)        multiple                  0         \n",
            "                                                                 \n",
            " softmax_12 (Softmax)        multiple                  0         \n",
            "                                                                 \n",
            "=================================================================\n",
            "Total params: 286978 (1.09 MB)\n",
            "Trainable params: 286338 (1.09 MB)\n",
            "Non-trainable params: 640 (2.50 KB)\n",
            "_________________________________________________________________\n"
          ]
        }
      ]
    },
    {
      "cell_type": "markdown",
      "source": [
        "Result 3/6/2024\n",
        "- Train accuracy_score : {'accuracy_score': 0.7832310838445807}\n",
        "- Test accuracy_score : {'accuracy_score': 0.7484662576687117}\n",
        "- Train f1_score : {'f1_score': 0.7663139329805997}\n",
        "- Test f1_score : {'f1_score': 0.7496947496947497}\n",
        "- Train roc_auc_score : {'roc_auc_score': 0.8593345580730762}\n",
        "- Test roc_auc_score : {'roc_auc_score': 0.8255188548412382}"
      ],
      "metadata": {
        "id": "XmDi3dY1Lz4f"
      }
    },
    {
      "cell_type": "markdown",
      "source": [
        "### Inference"
      ],
      "metadata": {
        "id": "maYEuFIPPQ8l"
      }
    },
    {
      "cell_type": "code",
      "source": [
        "# Test case for class 1\n",
        "from rdkit import Chem\n",
        "\n",
        "\n",
        "# Define a new SMILES string\n",
        "new_smiles = \"Nc1c2c(nc3c1CCC3)CCCC2\"\n",
        "\n",
        "# Create a ConvMolFeaturizer\n",
        "featurizer = dc.feat.ConvMolFeaturizer()\n",
        "\n",
        "# Convert the SMILES string to the format expected by the model\n",
        "new_mol = Chem.MolFromSmiles(new_smiles)\n",
        "new_data = featurizer.featurize([new_mol])\n",
        "\n",
        "# Create a Dataset object from the new data\n",
        "new_dataset = dc.data.NumpyDataset(new_data)\n",
        "\n",
        "# Predict the class probabilities for the new data\n",
        "new_pred_probs = model.predict(new_dataset)\n",
        "\n",
        "# Select the probabilities of the first task\n",
        "new_pred_probs = new_pred_probs[:, 0]\n",
        "\n",
        "# Convert the predicted probabilities to class labels\n",
        "new_preds = np.argmax(new_pred_probs, axis=1)\n",
        "\n",
        "print(\"Predicted probs for new data:\", new_pred_probs[0])\n",
        "print(\"Predicted class for new data:\", new_preds[0])"
      ],
      "metadata": {
        "colab": {
          "base_uri": "https://localhost:8080/"
        },
        "id": "p9rU7DniQ8Kd",
        "outputId": "c13e6c8c-6b8a-4e59-8461-d6ca551393a8"
      },
      "execution_count": 6,
      "outputs": [
        {
          "output_type": "stream",
          "name": "stdout",
          "text": [
            "Predicted probs for new data: [0.14498833 0.85501164]\n",
            "Predicted class for new data: 1\n"
          ]
        }
      ]
    },
    {
      "cell_type": "code",
      "source": [
        "# Test case for class 0\n",
        "\n",
        "# Define a new SMILES string\n",
        "new_smiles = \"Cc1ccc(OP(=O)(N(C)C)N2CCOCC2)cc1\"\n",
        "\n",
        "# Create a ConvMolFeaturizer\n",
        "featurizer = dc.feat.ConvMolFeaturizer()\n",
        "\n",
        "# Convert the SMILES string to the format expected by the model\n",
        "new_mol = Chem.MolFromSmiles(new_smiles)\n",
        "new_data = featurizer.featurize([new_mol])\n",
        "\n",
        "# Create a Dataset object from the new data\n",
        "new_dataset = dc.data.NumpyDataset(new_data)\n",
        "\n",
        "# Predict the class probabilities for the new data\n",
        "new_pred_probs = model.predict(new_dataset)\n",
        "\n",
        "# Select the probabilities of the first task\n",
        "new_pred_probs = new_pred_probs[:, 0]\n",
        "\n",
        "# Convert the predicted probabilities to class labels\n",
        "new_preds = np.argmax(new_pred_probs, axis=1)\n",
        "\n",
        "print(\"Predicted probs for new data:\", new_pred_probs[0])\n",
        "print(\"Predicted class for new data:\", new_preds[0])"
      ],
      "metadata": {
        "colab": {
          "base_uri": "https://localhost:8080/"
        },
        "id": "FJsIkn7Kw4_S",
        "outputId": "045f470b-8340-49cc-92cb-b7cf1a58dd47"
      },
      "execution_count": 7,
      "outputs": [
        {
          "output_type": "stream",
          "name": "stdout",
          "text": [
            "Predicted probs for new data: [0.89092106 0.10907897]\n",
            "Predicted class for new data: 0\n"
          ]
        }
      ]
    },
    {
      "cell_type": "code",
      "source": [
        "# Test case for class 1\n",
        "\n",
        "# Define a new SMILES string\n",
        "new_smiles = \"COc1ccc2nc(NCCc3cc[n+](Cc4ccccc4)cc3)sc2c1\"\n",
        "\n",
        "# Create a ConvMolFeaturizer\n",
        "featurizer = dc.feat.ConvMolFeaturizer()\n",
        "\n",
        "# Convert the SMILES string to the format expected by the model\n",
        "new_mol = Chem.MolFromSmiles(new_smiles)\n",
        "new_data = featurizer.featurize([new_mol])\n",
        "\n",
        "# Create a Dataset object from the new data\n",
        "new_dataset = dc.data.NumpyDataset(new_data)\n",
        "\n",
        "# Predict the class probabilities for the new data\n",
        "new_pred_probs = model.predict(new_dataset)\n",
        "\n",
        "# Select the probabilities of the first task\n",
        "new_pred_probs = new_pred_probs[:, 0]\n",
        "\n",
        "# Convert the predicted probabilities to class labels\n",
        "new_preds = np.argmax(new_pred_probs, axis=1)\n",
        "\n",
        "print(\"Predicted probs for new data:\", new_pred_probs[0])\n",
        "print(\"Predicted class for new data:\", new_preds[0])"
      ],
      "metadata": {
        "colab": {
          "base_uri": "https://localhost:8080/"
        },
        "id": "Yr2Xzz5bOhnA",
        "outputId": "091143d3-0095-4d67-e3b6-965807614cf9"
      },
      "execution_count": 8,
      "outputs": [
        {
          "output_type": "stream",
          "name": "stdout",
          "text": [
            "Predicted probs for new data: [0.41167313 0.5883269 ]\n",
            "Predicted class for new data: 1\n"
          ]
        }
      ]
    },
    {
      "cell_type": "code",
      "source": [
        "from sklearn.metrics import accuracy_score, precision_score, recall_score, f1_score, confusion_matrix\n",
        "\n",
        "# Test case with test dataset\n",
        "\n",
        "# Get the predicted probabilities\n",
        "pred_probs = model.predict(test_dataset)\n",
        "\n",
        "# Select the probabilities of the first task\n",
        "pred_probs = pred_probs[:, 0]\n",
        "\n",
        "# Convert the predicted probabilities to class labels\n",
        "preds = np.argmax(pred_probs, axis=1)\n",
        "\n",
        "# True labels for the test set\n",
        "true_labels = y_test\n",
        "\n",
        "# Calculate performance metrics\n",
        "accuracy = accuracy_score(true_labels, preds)\n",
        "precision = precision_score(true_labels, preds, average='weighted')\n",
        "recall = recall_score(true_labels, preds, average='weighted')\n",
        "f1 = f1_score(true_labels, preds, average='weighted')\n",
        "\n",
        "# Print the results\n",
        "print(\"Test dataset: \", test_dataset)\n",
        "print(\"True labels: \", true_labels)\n",
        "print(\"Predicted probabilities (first task): \", pred_probs)\n",
        "print(\"Predicted class: \", preds)\n",
        "\n",
        "print(\"\\nAccuracy: \", accuracy)\n",
        "print(\"Precision: \", precision)\n",
        "print(\"Recall: \", recall)\n",
        "print(\"F1 Score: \", f1)\n",
        "\n",
        "# Confusion Matrix\n",
        "conf_matrix = confusion_matrix(true_labels, preds)\n",
        "print(\"\\nConfusion Matrix:\\n\", conf_matrix)"
      ],
      "metadata": {
        "colab": {
          "base_uri": "https://localhost:8080/"
        },
        "id": "8oi0TKXKdKwe",
        "outputId": "1d5674d7-c81a-44a1-88bc-f49d7431d1f3"
      },
      "execution_count": 9,
      "outputs": [
        {
          "output_type": "stream",
          "name": "stdout",
          "text": [
            "Test dataset:  <DiskDataset X.shape: (408,), y.shape: (408, 1), w.shape: (408, 1), ids: ['Nc1c2c(nc3c1CCC3)CCCC2' 'COc1cc2[se]n(-c3ccc(CN4CCCCC4)cc3)c(=O)c2cc1OC'\n",
            " 'COc1cc2c(cc1O)CCC(C)(CCC(=O)NCCCCCCCCNc1c3c(nc4cc(Cl)ccc14)CCCC3)O2' ...\n",
            " 'Cc1c(C)c2ccc(OCC3CCN(Cc4cccc(CO[N+](=O)[O-])c4)CC3)cc2oc1=O'\n",
            " 'COc1cc(/C=N/O)c(O)c(CN2CCC(CN3CCc4cc(OC)c(OC)cc4C3c3ccccc3)CC2)c1'\n",
            " 'CN(Cc1ccccc1)Cc1ccc(C(=O)c2ccc(OCCCCCN3CCCCC3)cc2)cc1'], task_names: ['single-class-label']>\n",
            "True labels:  1749    1\n",
            "2053    0\n",
            "538     1\n",
            "438     1\n",
            "2684    0\n",
            "       ..\n",
            "2422    0\n",
            "1744    1\n",
            "2014    0\n",
            "3930    0\n",
            "1237    1\n",
            "Name: single-class-label, Length: 408, dtype: int64\n",
            "Predicted probabilities (first task):  [[0.14498845 0.8550116 ]\n",
            " [0.29325658 0.70674336]\n",
            " [0.02125362 0.97874635]\n",
            " [0.3589916  0.64100844]\n",
            " [0.9516703  0.04832958]\n",
            " [0.25487548 0.74512446]\n",
            " [0.08912505 0.91087496]\n",
            " [0.12508047 0.8749196 ]\n",
            " [0.76850295 0.23149697]\n",
            " [0.3335263  0.6664738 ]\n",
            " [0.3028434  0.6971566 ]\n",
            " [0.93663275 0.06336724]\n",
            " [0.05144465 0.9485553 ]\n",
            " [0.5758083  0.42419177]\n",
            " [0.42417833 0.57582164]\n",
            " [0.77477527 0.22522473]\n",
            " [0.26968133 0.7303186 ]\n",
            " [0.37667444 0.62332547]\n",
            " [0.23485157 0.7651484 ]\n",
            " [0.91116756 0.08883249]\n",
            " [0.7026865  0.2973135 ]\n",
            " [0.7770234  0.22297664]\n",
            " [0.06685346 0.93314654]\n",
            " [0.36898458 0.6310154 ]\n",
            " [0.1034417  0.89655834]\n",
            " [0.27900228 0.7209977 ]\n",
            " [0.64862776 0.35137224]\n",
            " [0.80649036 0.19350965]\n",
            " [0.8890775  0.11092247]\n",
            " [0.9560771  0.04392279]\n",
            " [0.30674443 0.69325554]\n",
            " [0.02792323 0.9720768 ]\n",
            " [0.6049638  0.39503616]\n",
            " [0.2541803  0.7458196 ]\n",
            " [0.34362608 0.6563739 ]\n",
            " [0.1223871  0.8776128 ]\n",
            " [0.66709685 0.33290312]\n",
            " [0.24081296 0.759187  ]\n",
            " [0.9501695  0.04983059]\n",
            " [0.22172798 0.778272  ]\n",
            " [0.5569221  0.44307786]\n",
            " [0.3330679  0.6669321 ]\n",
            " [0.54626894 0.4537311 ]\n",
            " [0.9383101  0.06168988]\n",
            " [0.26330686 0.73669314]\n",
            " [0.09851887 0.90148103]\n",
            " [0.5028297  0.49717024]\n",
            " [0.36860636 0.6313937 ]\n",
            " [0.64561814 0.35438177]\n",
            " [0.23237422 0.7676257 ]\n",
            " [0.8174995  0.18250032]\n",
            " [0.7032024  0.2967975 ]\n",
            " [0.6497604  0.35023955]\n",
            " [0.8336734  0.16632657]\n",
            " [0.8401188  0.15988125]\n",
            " [0.8284606  0.17153932]\n",
            " [0.53993076 0.46006915]\n",
            " [0.25763315 0.74236685]\n",
            " [0.598532   0.40146795]\n",
            " [0.34552136 0.65447855]\n",
            " [0.13568056 0.86431944]\n",
            " [0.3309612  0.6690388 ]\n",
            " [0.15135784 0.8486421 ]\n",
            " [0.27849907 0.72150093]\n",
            " [0.3775613  0.6224387 ]\n",
            " [0.6705828  0.32941726]\n",
            " [0.5764309  0.42356908]\n",
            " [0.6085904  0.3914095 ]\n",
            " [0.18710731 0.81289274]\n",
            " [0.5213636  0.4786364 ]\n",
            " [0.86195016 0.13804977]\n",
            " [0.10623681 0.89376324]\n",
            " [0.88515174 0.1148482 ]\n",
            " [0.9329127  0.06708722]\n",
            " [0.13010827 0.8698917 ]\n",
            " [0.63556033 0.3644397 ]\n",
            " [0.3823009  0.617699  ]\n",
            " [0.8471906  0.15280949]\n",
            " [0.05150422 0.94849586]\n",
            " [0.08800231 0.91199774]\n",
            " [0.8493782  0.15062176]\n",
            " [0.82542115 0.17457882]\n",
            " [0.6580384  0.34196174]\n",
            " [0.32600915 0.67399085]\n",
            " [0.5630479  0.43695214]\n",
            " [0.58348    0.41652003]\n",
            " [0.51632255 0.48367736]\n",
            " [0.2672211  0.73277885]\n",
            " [0.5465532  0.45344684]\n",
            " [0.55075485 0.44924513]\n",
            " [0.5698677  0.4301323 ]\n",
            " [0.7639674  0.23603262]\n",
            " [0.26498872 0.7350113 ]\n",
            " [0.10175207 0.89824796]\n",
            " [0.40546593 0.59453404]\n",
            " [0.38978195 0.61021805]\n",
            " [0.23065262 0.7693474 ]\n",
            " [0.2647707  0.7352293 ]\n",
            " [0.4416271  0.5583728 ]\n",
            " [0.70306265 0.29693738]\n",
            " [0.8789251  0.12107486]\n",
            " [0.56875795 0.43124196]\n",
            " [0.0819122  0.9180878 ]\n",
            " [0.683862   0.31613803]\n",
            " [0.3019734  0.6980266 ]\n",
            " [0.718954   0.28104594]\n",
            " [0.85379875 0.14620121]\n",
            " [0.5041951  0.49580482]\n",
            " [0.09608207 0.9039179 ]\n",
            " [0.08257487 0.9174251 ]\n",
            " [0.23826596 0.761734  ]\n",
            " [0.7375997  0.2624003 ]\n",
            " [0.8964341  0.10356582]\n",
            " [0.63388    0.36612004]\n",
            " [0.8371558  0.1628442 ]\n",
            " [0.7049841  0.2950158 ]\n",
            " [0.04902037 0.95097965]\n",
            " [0.8070325  0.19296756]\n",
            " [0.9440568  0.05594329]\n",
            " [0.7001805  0.29981953]\n",
            " [0.4298047  0.5701953 ]\n",
            " [0.39124233 0.6087577 ]\n",
            " [0.87720805 0.12279197]\n",
            " [0.045797   0.954203  ]\n",
            " [0.87037516 0.12962486]\n",
            " [0.17429128 0.82570857]\n",
            " [0.9641206  0.03587944]\n",
            " [0.06384635 0.9361536 ]\n",
            " [0.9761823  0.02381767]\n",
            " [0.8450236  0.15497649]\n",
            " [0.7353814  0.26461858]\n",
            " [0.23036286 0.7696371 ]\n",
            " [0.3260772  0.6739227 ]\n",
            " [0.8390882  0.16091186]\n",
            " [0.8228451  0.1771549 ]\n",
            " [0.6446503  0.3553497 ]\n",
            " [0.52296805 0.47703198]\n",
            " [0.25946513 0.7405349 ]\n",
            " [0.73286533 0.26713464]\n",
            " [0.8374525  0.16254751]\n",
            " [0.04725988 0.95274013]\n",
            " [0.25213796 0.74786204]\n",
            " [0.06055903 0.93944085]\n",
            " [0.55936337 0.44063666]\n",
            " [0.9303972  0.0696028 ]\n",
            " [0.12226984 0.87773025]\n",
            " [0.42210278 0.5778971 ]\n",
            " [0.689909   0.310091  ]\n",
            " [0.38163236 0.6183677 ]\n",
            " [0.34112126 0.6588787 ]\n",
            " [0.11876979 0.8812302 ]\n",
            " [0.56344604 0.43655384]\n",
            " [0.5722659  0.42773405]\n",
            " [0.07579667 0.9242032 ]\n",
            " [0.4777007  0.5222993 ]\n",
            " [0.5701796  0.42982048]\n",
            " [0.8555812  0.14441876]\n",
            " [0.18640147 0.81359845]\n",
            " [0.17199074 0.82800925]\n",
            " [0.40139008 0.59860975]\n",
            " [0.93857217 0.06142775]\n",
            " [0.06373673 0.9362632 ]\n",
            " [0.08155359 0.91844636]\n",
            " [0.8684509  0.13154913]\n",
            " [0.7295182  0.2704818 ]\n",
            " [0.89303344 0.10696656]\n",
            " [0.30518535 0.6948147 ]\n",
            " [0.52528435 0.4747157 ]\n",
            " [0.24610627 0.75389373]\n",
            " [0.6846348  0.31536525]\n",
            " [0.39808375 0.60191625]\n",
            " [0.93019927 0.06980072]\n",
            " [0.20086232 0.7991378 ]\n",
            " [0.09611831 0.9038817 ]\n",
            " [0.36061946 0.63938046]\n",
            " [0.7932378  0.2067621 ]\n",
            " [0.27273464 0.72726524]\n",
            " [0.181829   0.818171  ]\n",
            " [0.8834792  0.11652084]\n",
            " [0.9087672  0.0912328 ]\n",
            " [0.72144777 0.27855223]\n",
            " [0.04375747 0.9562425 ]\n",
            " [0.18274784 0.81725216]\n",
            " [0.04436544 0.95563453]\n",
            " [0.17108047 0.8289196 ]\n",
            " [0.40626603 0.593734  ]\n",
            " [0.78761417 0.21238576]\n",
            " [0.08096141 0.91903865]\n",
            " [0.8344236  0.1655763 ]\n",
            " [0.5763485  0.42365152]\n",
            " [0.36097652 0.6390235 ]\n",
            " [0.55986506 0.44013497]\n",
            " [0.45560136 0.5443986 ]\n",
            " [0.6294187  0.37058136]\n",
            " [0.8298384  0.17016152]\n",
            " [0.81633294 0.183667  ]\n",
            " [0.5964765  0.40352353]\n",
            " [0.7867534  0.21324658]\n",
            " [0.5947151  0.40528488]\n",
            " [0.60294956 0.39705038]\n",
            " [0.11977176 0.8802282 ]\n",
            " [0.49142998 0.50856996]\n",
            " [0.9332892  0.06671084]\n",
            " [0.20891497 0.79108506]\n",
            " [0.46443114 0.5355688 ]\n",
            " [0.8366303  0.1633697 ]\n",
            " [0.83920395 0.16079606]\n",
            " [0.9106856  0.0893143 ]\n",
            " [0.64545524 0.35454473]\n",
            " [0.16538776 0.8346122 ]\n",
            " [0.982047   0.01795303]\n",
            " [0.6515029  0.34849715]\n",
            " [0.26792127 0.73207873]\n",
            " [0.52771145 0.47228852]\n",
            " [0.4815134  0.5184865 ]\n",
            " [0.8305787  0.16942134]\n",
            " [0.13402058 0.8659793 ]\n",
            " [0.9149379  0.08506197]\n",
            " [0.38771006 0.61229   ]\n",
            " [0.53371125 0.4662887 ]\n",
            " [0.8782641  0.12173593]\n",
            " [0.86173666 0.1382633 ]\n",
            " [0.37802732 0.62197256]\n",
            " [0.4598523  0.54014766]\n",
            " [0.82515484 0.17484511]\n",
            " [0.50914854 0.49085146]\n",
            " [0.05073949 0.9492606 ]\n",
            " [0.35288766 0.6471123 ]\n",
            " [0.68728244 0.3127176 ]\n",
            " [0.8140045  0.18599549]\n",
            " [0.7499283  0.25007173]\n",
            " [0.64857703 0.35142294]\n",
            " [0.8785235  0.1214765 ]\n",
            " [0.30212215 0.6978779 ]\n",
            " [0.2508619  0.749138  ]\n",
            " [0.29479754 0.7052025 ]\n",
            " [0.06065122 0.9393487 ]\n",
            " [0.2597707  0.74022937]\n",
            " [0.26441565 0.73558426]\n",
            " [0.19520687 0.80479306]\n",
            " [0.7262692  0.2737308 ]\n",
            " [0.6595373  0.3404626 ]\n",
            " [0.7530665  0.24693348]\n",
            " [0.38666686 0.61333317]\n",
            " [0.3469711  0.65302885]\n",
            " [0.03652587 0.9634741 ]\n",
            " [0.64692795 0.35307217]\n",
            " [0.8368628  0.16313718]\n",
            " [0.22697213 0.7730279 ]\n",
            " [0.6845036  0.31549633]\n",
            " [0.80730474 0.19269532]\n",
            " [0.48825392 0.51174605]\n",
            " [0.28487712 0.7151228 ]\n",
            " [0.36890972 0.6310902 ]\n",
            " [0.5699461  0.4300539 ]\n",
            " [0.9462119  0.05378811]\n",
            " [0.7704399  0.22956015]\n",
            " [0.75417584 0.24582416]\n",
            " [0.45249864 0.5475013 ]\n",
            " [0.8096807  0.19031933]\n",
            " [0.6987365  0.30126357]\n",
            " [0.27803975 0.72196025]\n",
            " [0.5947277  0.40527236]\n",
            " [0.25348094 0.746519  ]\n",
            " [0.18400073 0.81599927]\n",
            " [0.93503505 0.06496498]\n",
            " [0.74099433 0.25900564]\n",
            " [0.4325099  0.5674902 ]\n",
            " [0.36499497 0.635005  ]\n",
            " [0.9058476  0.09415231]\n",
            " [0.57075393 0.42924592]\n",
            " [0.2907287  0.7092713 ]\n",
            " [0.72326404 0.276736  ]\n",
            " [0.07952618 0.92047375]\n",
            " [0.06897035 0.9310297 ]\n",
            " [0.939982   0.06001805]\n",
            " [0.73904735 0.26095253]\n",
            " [0.3404864  0.6595136 ]\n",
            " [0.6179314  0.38206857]\n",
            " [0.29199848 0.7080015 ]\n",
            " [0.37170777 0.6282923 ]\n",
            " [0.39502615 0.6049739 ]\n",
            " [0.09406833 0.90593165]\n",
            " [0.82686406 0.17313586]\n",
            " [0.13565445 0.8643456 ]\n",
            " [0.46934867 0.5306514 ]\n",
            " [0.72308975 0.27691022]\n",
            " [0.70162505 0.29837492]\n",
            " [0.6947319  0.30526814]\n",
            " [0.26767683 0.7323232 ]\n",
            " [0.92542106 0.07457889]\n",
            " [0.41268322 0.5873168 ]\n",
            " [0.58376694 0.41623303]\n",
            " [0.24370626 0.7562938 ]\n",
            " [0.43374494 0.5662551 ]\n",
            " [0.71116996 0.28883004]\n",
            " [0.97265255 0.02734743]\n",
            " [0.27186927 0.72813076]\n",
            " [0.02324178 0.9767583 ]\n",
            " [0.6425713  0.35742885]\n",
            " [0.3086224  0.69137764]\n",
            " [0.23396392 0.76603603]\n",
            " [0.11073302 0.8892669 ]\n",
            " [0.4639309  0.53606915]\n",
            " [0.92400175 0.07599826]\n",
            " [0.69209033 0.3079097 ]\n",
            " [0.21715052 0.7828494 ]\n",
            " [0.31139347 0.6886065 ]\n",
            " [0.65836823 0.3416318 ]\n",
            " [0.41233942 0.58766055]\n",
            " [0.23732068 0.7626792 ]\n",
            " [0.35400918 0.6459908 ]\n",
            " [0.2516995  0.7483005 ]\n",
            " [0.7415844  0.25841567]\n",
            " [0.49344492 0.5065551 ]\n",
            " [0.36902285 0.63097715]\n",
            " [0.0599742  0.9400258 ]\n",
            " [0.37634844 0.62365156]\n",
            " [0.58151037 0.4184896 ]\n",
            " [0.5895979  0.41040215]\n",
            " [0.55290824 0.44709176]\n",
            " [0.37872285 0.62127715]\n",
            " [0.7564365  0.24356347]\n",
            " [0.8579976  0.14200242]\n",
            " [0.41243252 0.5875674 ]\n",
            " [0.58087516 0.41912484]\n",
            " [0.13269629 0.86730367]\n",
            " [0.6023859  0.39761406]\n",
            " [0.58643836 0.4135616 ]\n",
            " [0.6325931  0.36740693]\n",
            " [0.8861762  0.11382379]\n",
            " [0.371028   0.62897193]\n",
            " [0.2146275  0.7853725 ]\n",
            " [0.09369576 0.90630424]\n",
            " [0.4598523  0.54014766]\n",
            " [0.06968418 0.9303158 ]\n",
            " [0.10864647 0.8913535 ]\n",
            " [0.9626343  0.03736568]\n",
            " [0.70447487 0.2955252 ]\n",
            " [0.5471777  0.4528223 ]\n",
            " [0.22916114 0.77083886]\n",
            " [0.23740697 0.76259303]\n",
            " [0.1189544  0.88104564]\n",
            " [0.39790943 0.60209054]\n",
            " [0.6128461  0.3871539 ]\n",
            " [0.07149759 0.92850244]\n",
            " [0.37893552 0.6210644 ]\n",
            " [0.17635947 0.8236406 ]\n",
            " [0.08438979 0.91561013]\n",
            " [0.27853197 0.721468  ]\n",
            " [0.66641504 0.333585  ]\n",
            " [0.43031654 0.56968343]\n",
            " [0.83419055 0.16580942]\n",
            " [0.17710593 0.82289404]\n",
            " [0.82184863 0.1781513 ]\n",
            " [0.87523204 0.124768  ]\n",
            " [0.36227444 0.6377256 ]\n",
            " [0.4513399  0.5486601 ]\n",
            " [0.90484697 0.09515304]\n",
            " [0.3606218  0.6393781 ]\n",
            " [0.8087449  0.19125499]\n",
            " [0.5538705  0.44612947]\n",
            " [0.46688515 0.53311485]\n",
            " [0.8008446  0.19915526]\n",
            " [0.7815314  0.21846856]\n",
            " [0.40015852 0.5998415 ]\n",
            " [0.9074396  0.09256038]\n",
            " [0.31689948 0.68310046]\n",
            " [0.887239   0.11276104]\n",
            " [0.34851742 0.6514826 ]\n",
            " [0.12162498 0.87837505]\n",
            " [0.74616235 0.25383765]\n",
            " [0.22499795 0.77500206]\n",
            " [0.4412429  0.5587571 ]\n",
            " [0.82313716 0.17686284]\n",
            " [0.7144301  0.28556997]\n",
            " [0.91856533 0.08143474]\n",
            " [0.40847063 0.59152937]\n",
            " [0.35474455 0.6452555 ]\n",
            " [0.5794904  0.42050964]\n",
            " [0.974909   0.02509106]\n",
            " [0.79584247 0.20415753]\n",
            " [0.8977582  0.10224175]\n",
            " [0.9587761  0.04122377]\n",
            " [0.7879851  0.21201476]\n",
            " [0.8955775  0.10442248]\n",
            " [0.2445931  0.7554069 ]\n",
            " [0.85064125 0.14935862]\n",
            " [0.301067   0.698933  ]\n",
            " [0.84009    0.15990998]\n",
            " [0.91453695 0.0854631 ]\n",
            " [0.9499593  0.05004073]\n",
            " [0.10967578 0.8903242 ]\n",
            " [0.79350567 0.20649417]\n",
            " [0.6091316  0.39086846]\n",
            " [0.3341428  0.6658572 ]\n",
            " [0.7940305  0.20596941]\n",
            " [0.10704853 0.89295137]\n",
            " [0.8862494  0.11375052]\n",
            " [0.0393389  0.96066105]\n",
            " [0.7144893  0.28551078]\n",
            " [0.28974625 0.71025383]\n",
            " [0.9798821  0.0201178 ]\n",
            " [0.19728146 0.8027185 ]\n",
            " [0.4270603  0.57293963]\n",
            " [0.3794464  0.6205537 ]\n",
            " [0.6066813  0.3933187 ]\n",
            " [0.5874752  0.41252482]]\n",
            "Predicted class:  [1 1 1 1 0 1 1 1 0 1 1 0 1 0 1 0 1 1 1 0 0 0 1 1 1 1 0 0 0 0 1 1 0 1 1 1 0\n",
            " 1 0 1 0 1 0 0 1 1 0 1 0 1 0 0 0 0 0 0 0 1 0 1 1 1 1 1 1 0 0 0 1 0 0 1 0 0\n",
            " 1 0 1 0 1 1 0 0 0 1 0 0 0 1 0 0 0 0 1 1 1 1 1 1 1 0 0 0 1 0 1 0 0 0 1 1 1\n",
            " 0 0 0 0 0 1 0 0 0 1 1 0 1 0 1 0 1 0 0 0 1 1 0 0 0 0 1 0 0 1 1 1 0 0 1 1 0\n",
            " 1 1 1 0 0 1 1 0 0 1 1 1 0 1 1 0 0 0 1 0 1 0 1 0 1 1 1 0 1 1 0 0 0 1 1 1 1\n",
            " 1 0 1 0 0 1 0 1 0 0 0 0 0 0 0 1 1 0 1 1 0 0 0 0 1 0 0 1 0 1 0 1 0 1 0 0 0\n",
            " 1 1 0 0 1 1 0 0 0 0 0 1 1 1 1 1 1 1 0 0 0 1 1 1 0 0 1 0 0 1 1 1 0 0 0 0 1\n",
            " 0 0 1 0 1 1 0 0 1 1 0 0 1 0 1 1 0 0 1 0 1 1 1 1 0 1 1 0 0 0 1 0 1 0 1 1 0\n",
            " 0 1 1 0 1 1 1 1 0 0 1 1 0 1 1 1 1 0 1 1 1 1 0 0 0 1 0 0 1 0 1 0 0 0 0 1 1\n",
            " 1 1 1 1 0 0 0 1 1 1 1 0 1 1 1 1 1 0 1 0 1 0 0 1 1 0 1 0 0 1 0 0 1 0 1 0 1\n",
            " 1 0 1 1 0 0 0 1 1 0 0 0 0 0 0 0 1 0 1 0 0 0 1 0 0 1 0 1 0 1 0 1 0 1 1 1 0\n",
            " 0]\n",
            "\n",
            "Accuracy:  0.7843137254901961\n",
            "Precision:  0.7846840937663154\n",
            "Recall:  0.7843137254901961\n",
            "F1 Score:  0.784329274182339\n",
            "\n",
            "Confusion Matrix:\n",
            " [[159  41]\n",
            " [ 47 161]]\n"
          ]
        }
      ]
    },
    {
      "cell_type": "code",
      "source": [
        "# check pred_probs.shape should be 2 for binary classification\n",
        "# check true_labels.shape. shape is (815,), this means 815 samples in test set with a single label per sample.\n",
        "print(pred_probs.shape)\n",
        "print(true_labels.shape)"
      ],
      "metadata": {
        "colab": {
          "base_uri": "https://localhost:8080/"
        },
        "id": "nRDoI3XjeehV",
        "outputId": "54406d5b-789f-43e6-a7c8-b124c5f0e89a"
      },
      "execution_count": 10,
      "outputs": [
        {
          "output_type": "stream",
          "name": "stdout",
          "text": [
            "(408, 2)\n",
            "(408,)\n"
          ]
        }
      ]
    },
    {
      "cell_type": "code",
      "source": [
        "import numpy as np\n",
        "import matplotlib.pyplot as plt\n",
        "import seaborn as sns\n",
        "from sklearn.metrics import confusion_matrix\n",
        "\n",
        "# Calculate the confusion matrix\n",
        "conf_matrix = confusion_matrix(true_labels, preds)\n",
        "\n",
        "# Plot the confusion matrix\n",
        "plt.figure(figsize=(8, 6))\n",
        "sns.heatmap(conf_matrix, annot=True, fmt='d', cmap='Blues', cbar=False)\n",
        "plt.xlabel('Predicted Labels')\n",
        "plt.ylabel('True Labels')\n",
        "plt.title('Confusion Matrix')\n",
        "plt.show()\n"
      ],
      "metadata": {
        "colab": {
          "base_uri": "https://localhost:8080/",
          "height": 564
        },
        "id": "c2edLvGXhtvY",
        "outputId": "55ff9cd1-153a-4fb4-e2d8-4be5f8301f49"
      },
      "execution_count": 11,
      "outputs": [
        {
          "output_type": "display_data",
          "data": {
            "text/plain": [
              "<Figure size 800x600 with 1 Axes>"
            ],
            "image/png": "[encoded data removed]"
          },
          "metadata": {}
        }
      ]
    },
    {
      "cell_type": "markdown",
      "source": [
        "# Additional (for understanding)"
      ],
      "metadata": {
        "id": "QqSbc3goWU-J"
      }
    },
    {
      "cell_type": "markdown",
      "source": [
        "## Visualize the use of ConvMolFeaturizer\n",
        "\n",
        "Featurize the Data: Convert the SMILES strings into graph-based features using the ConvMolFeaturizer."
      ],
      "metadata": {
        "id": "lqLEeAYnRuXu"
      }
    },
    {
      "cell_type": "code",
      "source": [
        "# Visualize the use of ConvMolFeaturizer\n",
        "\n",
        "from deepchem.feat import ConvMolFeaturizer\n",
        "from rdkit import Chem\n",
        "import networkx as nx\n",
        "import matplotlib.pyplot as plt\n",
        "\n",
        "# Example SMILES string\n",
        "smiles = 'CC(=O)OC1=CC=CC=C1C(=O)O'\n",
        "\n",
        "# Featurize the SMILES string\n",
        "featurizer = ConvMolFeaturizer()\n",
        "mol_features = featurizer.featurize([smiles])[0]\n",
        "\n",
        "# Extract the molecule\n",
        "rdkit_mol = Chem.MolFromSmiles(smiles)\n",
        "\n",
        "# Create a NetworkX graph from RDKit molecule\n",
        "G = nx.Graph()\n",
        "for atom in rdkit_mol.GetAtoms():\n",
        "    G.add_node(atom.GetIdx(), label=atom.GetSymbol())\n",
        "\n",
        "for bond in rdkit_mol.GetBonds():\n",
        "    G.add_edge(bond.GetBeginAtomIdx(), bond.GetEndAtomIdx(), order=bond.GetBondType())\n",
        "\n",
        "# Define a color map for atoms (optional)\n",
        "atom_colors = {\n",
        "    'H': 'white',\n",
        "    'C': 'black',\n",
        "    'O': 'red',\n",
        "    'N': 'blue',\n",
        "    'S': 'yellow',\n",
        "    'F': 'green',\n",
        "    'Cl': 'green',\n",
        "    'Br': 'brown',\n",
        "    'I': 'purple'\n",
        "}\n",
        "\n",
        "# Get atom symbols for coloring\n",
        "colors = [atom_colors[rdkit_mol.GetAtomWithIdx(i).GetSymbol()] for i in G.nodes()]\n",
        "\n",
        "# Draw the graph\n",
        "pos = nx.spring_layout(G)  # positions for all nodes\n",
        "plt.figure(figsize=(8, 8))\n",
        "nx.draw_networkx_nodes(G, pos, node_color=colors, node_size=500)\n",
        "nx.draw_networkx_edges(G, pos, width=1.0, alpha=0.5)\n",
        "nx.draw_networkx_labels(G, pos, {i: rdkit_mol.GetAtomWithIdx(i).GetSymbol() for i in G.nodes()})\n",
        "plt.title(\"Molecular Graph for SMILES: {}\".format(smiles))\n",
        "plt.show()"
      ],
      "metadata": {
        "colab": {
          "base_uri": "https://localhost:8080/",
          "height": 675
        },
        "id": "kZLV-XnMQxpR",
        "outputId": "b7cb2e77-a31b-43c4-c6dc-cc815457e632"
      },
      "execution_count": 12,
      "outputs": [
        {
          "output_type": "display_data",
          "data": {
            "text/plain": [
              "<Figure size 800x800 with 1 Axes>"
            ],
            "image/png": "[encoded data removed]"
          },
          "metadata": {}
        }
      ]
    },
    {
      "cell_type": "markdown",
      "source": [
        "# Nested 5 fold cross validation"
      ],
      "metadata": {
        "id": "NJLSPFNhhOuy"
      }
    },
    {
      "cell_type": "code",
      "source": [
        "import deepchem as dc\n",
        "import numpy as np\n",
        "from sklearn.model_selection import KFold\n",
        "\n",
        "# Load and Featurize the data using DeepChem\n",
        "tasks = [\"single-class-label\"]\n",
        "ntasks = len(tasks)\n",
        "featurizer_func = dc.feat.ConvMolFeaturizer()\n",
        "loader = dc.data.CSVLoader(tasks=tasks, feature_field='SMILES', featurizer=featurizer_func)\n",
        "\n",
        "# Load datasets\n",
        "train_dataset = loader.create_dataset(train_file)\n",
        "val_dataset = loader.create_dataset(val_file)\n",
        "test_dataset = loader.create_dataset(test_file)\n",
        "\n",
        "# Concatenate train and test datasets for cross-validation\n",
        "dataset = dc.data.DiskDataset.merge([train_dataset, test_dataset])\n",
        "\n",
        "# Get the features (X) and labels (y) from the dataset\n",
        "X = dataset.X\n",
        "y = dataset.y\n",
        "\n",
        "# Initialize the outer KFold\n",
        "outer_kf = KFold(n_splits=5, shuffle=True, random_state=1)\n",
        "\n",
        "outer_accuracies = []\n",
        "outer_f1_scores = []\n",
        "outer_roc_auc_scores = []\n",
        "\n",
        "batch_size = 64\n",
        "batches_per_epoch = 600/batch_size\n",
        "learning_rate = dc.models.optimizers.ExponentialDecay(0.0001, 0.9, batches_per_epoch)\n",
        "\n",
        "for outer_train_index, outer_test_index in outer_kf.split(X):\n",
        "    # Split the data for the outer loop\n",
        "    outer_X_train, outer_X_test = X[outer_train_index], X[outer_test_index]\n",
        "    outer_y_train, outer_y_test = y[outer_train_index], y[outer_test_index]\n",
        "\n",
        "    # Initialize the inner KFold\n",
        "    inner_kf = KFold(n_splits=5, shuffle=True, random_state=1)\n",
        "    inner_accuracies = []\n",
        "    inner_f1_scores = []\n",
        "    inner_roc_auc_scores = []\n",
        "\n",
        "    for inner_train_index, inner_val_index in inner_kf.split(outer_X_train):\n",
        "        # Split the data for the inner loop\n",
        "        inner_X_train, inner_X_val = outer_X_train[inner_train_index], outer_X_train[inner_val_index]\n",
        "        inner_y_train, inner_y_val = outer_y_train[inner_train_index], outer_y_train[inner_val_index]\n",
        "\n",
        "        # Create train and validation datasets for DeepChem\n",
        "        train_dataset = dc.data.NumpyDataset(inner_X_train, inner_y_train)\n",
        "        val_dataset = dc.data.NumpyDataset(inner_X_val, inner_y_val)\n",
        "\n",
        "        # Initialize the model\n",
        "        batches_per_epoch = len(inner_X_train) / batch_size\n",
        "        learning_rate = dc.models.optimizers.ExponentialDecay(0.0001, 0.9, batches_per_epoch)\n",
        "        model = dc.models.GraphConvModel(ntasks,\n",
        "                                         graph_conv_layers=[64, 64, 64],\n",
        "                                         dense_layer_size=128,\n",
        "                                         dropout=0.,\n",
        "                                         batch_normalize=True,\n",
        "                                         mode='classification',\n",
        "                                         batch_size=batch_size,\n",
        "                                         learning_rate=learning_rate,\n",
        "                                         model_dir='/content/drive/MyDrive/Colab Notebooks/FYP1/DeepChemGCNModels')\n",
        "\n",
        "        # Train the model\n",
        "        model.fit(train_dataset)\n",
        "\n",
        "        # Evaluate the model on the validation set\n",
        "        val_scores = model.evaluate(val_dataset, [dc.metrics.Metric(dc.metrics.accuracy_score),\n",
        "                                                  dc.metrics.Metric(dc.metrics.f1_score),\n",
        "                                                  dc.metrics.Metric(dc.metrics.roc_auc_score)])\n",
        "        inner_accuracies.append(val_scores['accuracy_score'])\n",
        "        inner_f1_scores.append(val_scores['f1_score'])\n",
        "        inner_roc_auc_scores.append(val_scores['roc_auc_score'])\n",
        "\n",
        "    # Average the inner fold scores for hyperparameter selection\n",
        "    avg_inner_accuracy = np.mean(inner_accuracies)\n",
        "    avg_inner_f1_score = np.mean(inner_f1_scores)\n",
        "    avg_inner_roc_auc_score = np.mean(inner_roc_auc_scores)\n",
        "\n",
        "    # Create the final train and test datasets for the outer loop\n",
        "    final_train_dataset = dc.data.NumpyDataset(outer_X_train, outer_y_train)\n",
        "    final_test_dataset = dc.data.NumpyDataset(outer_X_test, outer_y_test)\n",
        "\n",
        "    # Train the model on the entire outer training data\n",
        "    model.fit(final_train_dataset)\n",
        "\n",
        "    # Evaluate the model on the outer test set\n",
        "    outer_test_scores = model.evaluate(final_test_dataset, [dc.metrics.Metric(dc.metrics.accuracy_score),\n",
        "                                                            dc.metrics.Metric(dc.metrics.f1_score),\n",
        "                                                            dc.metrics.Metric(dc.metrics.roc_auc_score)])\n",
        "    outer_accuracies.append(outer_test_scores['accuracy_score'])\n",
        "    outer_f1_scores.append(outer_test_scores['f1_score'])\n",
        "    outer_roc_auc_scores.append(outer_test_scores['roc_auc_score'])\n",
        "\n",
        "# Compute the average scores across all outer folds\n",
        "final_accuracy = np.mean(outer_accuracies)\n",
        "final_f1_score = np.mean(outer_f1_scores)\n",
        "final_roc_auc_score = np.mean(outer_roc_auc_scores)\n",
        "\n",
        "print(f'Final Accuracy: {final_accuracy}')\n",
        "print(f'Final F1 Score: {final_f1_score}')\n",
        "print(f'Final ROC AUC Score: {final_roc_auc_score}')"
      ],
      "metadata": {
        "id": "q5E7sGCvhRGC"
      },
      "execution_count": null,
      "outputs": []
    },
    {
      "cell_type": "markdown",
      "source": [
        "# Default"
      ],
      "metadata": {
        "id": "4q1ZmI8A-o_Z"
      }
    },
    {
      "cell_type": "markdown",
      "source": [
        "# Model 11"
      ],
      "metadata": {
        "id": "xrV2tqIeMfJ9"
      }
    },
    {
      "cell_type": "code",
      "source": [
        "# Dataset loaded from before\n",
        "\n",
        "# Initialize model\n",
        "model = dc.models.GraphConvModel(n_tasks=len(tasks), mode='classification')\n",
        "\n",
        "# Train model\n",
        "model.fit(train_dataset, nb_epoch=50)\n",
        "\n",
        "# Evaluate model\n",
        "metric = dc.metrics.Metric(dc.metrics.roc_auc_score, np.mean)\n",
        "print(\"Training set score:\", model.evaluate(train_dataset, [metric]))\n",
        "print(\"Test set score:\", model.evaluate(test_dataset, [metric]))"
      ],
      "metadata": {
        "colab": {
          "base_uri": "https://localhost:8080/"
        },
        "id": "jzPVBKrI_Aec",
        "outputId": "78b18ec1-ada8-462b-e3d2-529b14955478"
      },
      "execution_count": 16,
      "outputs": [
        {
          "output_type": "stream",
          "name": "stdout",
          "text": [
            "Training set score: {'mean-roc_auc_score': 0.9938130000854237}\n",
            "Test set score: {'mean-roc_auc_score': 0.9720192307692308}\n"
          ]
        }
      ]
    },
    {
      "cell_type": "code",
      "source": [
        "model.model.summary()"
      ],
      "metadata": {
        "colab": {
          "base_uri": "https://localhost:8080/"
        },
        "id": "MDyRn7Y8DFVc",
        "outputId": "ec675756-daab-4e96-d997-f40dd068d245"
      },
      "execution_count": 21,
      "outputs": [
        {
          "output_type": "stream",
          "name": "stdout",
          "text": [
            "Model: \"private__graph_conv_keras_model_11\"\n",
            "_________________________________________________________________\n",
            " Layer (type)                Output Shape              Param #   \n",
            "=================================================================\n",
            " graph_conv_33 (GraphConv)   multiple                  102144    \n",
            "                                                                 \n",
            " graph_conv_34 (GraphConv)   multiple                  87360     \n",
            "                                                                 \n",
            " batch_normalization_44 (Ba  multiple                  256       \n",
            " tchNormalization)                                               \n",
            "                                                                 \n",
            " batch_normalization_45 (Ba  multiple                  256       \n",
            " tchNormalization)                                               \n",
            "                                                                 \n",
            " batch_normalization_46 (Ba  multiple                  512       \n",
            " tchNormalization)                                               \n",
            "                                                                 \n",
            " graph_pool_33 (GraphPool)   multiple                  0         \n",
            "                                                                 \n",
            " graph_pool_34 (GraphPool)   multiple                  0         \n",
            "                                                                 \n",
            " dense_22 (Dense)            multiple                  8320      \n",
            "                                                                 \n",
            " graph_gather_11 (GraphGath  multiple                  0         \n",
            " er)                                                             \n",
            "                                                                 \n",
            " trim_graph_output_11 (Trim  multiple                  0         \n",
            " GraphOutput)                                                    \n",
            "                                                                 \n",
            " dense_23 (Dense)            multiple                  514       \n",
            "                                                                 \n",
            " reshape_11 (Reshape)        multiple                  0         \n",
            "                                                                 \n",
            " softmax_11 (Softmax)        multiple                  0         \n",
            "                                                                 \n",
            "=================================================================\n",
            "Total params: 199362 (778.76 KB)\n",
            "Trainable params: 198850 (776.76 KB)\n",
            "Non-trainable params: 512 (2.00 KB)\n",
            "_________________________________________________________________\n"
          ]
        }
      ]
    },
    {
      "cell_type": "markdown",
      "source": [
        "# Best (Model 18)"
      ],
      "metadata": {
        "id": "by11YILBMcmj"
      }
    },
    {
      "cell_type": "code",
      "source": [
        "# default\n",
        "# Dataset loaded from before\n",
        "\n",
        "# Initialize model\n",
        "model = dc.models.GraphConvModel(n_tasks=len(tasks), mode='classification')\n",
        "\n",
        "# Train model\n",
        "model.fit(train_dataset, nb_epoch=50)\n",
        "\n",
        "metrics = [dc.metrics.Metric(dc.metrics.accuracy_score),\n",
        "           dc.metrics.Metric(dc.metrics.f1_score),\n",
        "           dc.metrics.Metric(dc.metrics.roc_auc_score)]\n",
        "\n",
        "for metric in metrics:\n",
        "    print(\"Train\", metric.name, \":\", model.evaluate(train_dataset, [metric]))\n",
        "    print(\"Test\", metric.name, \":\", model.evaluate(test_dataset, [metric]))"
      ],
      "metadata": {
        "colab": {
          "base_uri": "https://localhost:8080/"
        },
        "id": "-JrOv7rsLGJ9",
        "outputId": "3a54966a-f282-4ed1-d1fe-bf96905b02b7"
      },
      "execution_count": 34,
      "outputs": [
        {
          "output_type": "stream",
          "name": "stdout",
          "text": [
            "Train accuracy_score : {'accuracy_score': 0.956989247311828}\n",
            "Test accuracy_score : {'accuracy_score': 0.9044117647058824}\n",
            "Train f1_score : {'f1_score': 0.9491150442477876}\n",
            "Test f1_score : {'f1_score': 0.9027431421446385}\n",
            "Train roc_auc_score : {'roc_auc_score': 0.9948612218457245}\n",
            "Test roc_auc_score : {'roc_auc_score': 0.9595913461538461}\n"
          ]
        }
      ]
    },
    {
      "cell_type": "code",
      "source": [
        "model.model.summary()"
      ],
      "metadata": {
        "colab": {
          "base_uri": "https://localhost:8080/"
        },
        "id": "7oPou2KzLpzX",
        "outputId": "4491e6b5-c83e-4d8b-fc34-0aca90dac903"
      },
      "execution_count": 35,
      "outputs": [
        {
          "output_type": "stream",
          "name": "stdout",
          "text": [
            "Model: \"private__graph_conv_keras_model_18\"\n",
            "_________________________________________________________________\n",
            " Layer (type)                Output Shape              Param #   \n",
            "=================================================================\n",
            " graph_conv_48 (GraphConv)   multiple                  102144    \n",
            "                                                                 \n",
            " graph_conv_49 (GraphConv)   multiple                  87360     \n",
            "                                                                 \n",
            " batch_normalization_66 (Ba  multiple                  256       \n",
            " tchNormalization)                                               \n",
            "                                                                 \n",
            " batch_normalization_67 (Ba  multiple                  256       \n",
            " tchNormalization)                                               \n",
            "                                                                 \n",
            " batch_normalization_68 (Ba  multiple                  512       \n",
            " tchNormalization)                                               \n",
            "                                                                 \n",
            " graph_pool_48 (GraphPool)   multiple                  0         \n",
            "                                                                 \n",
            " graph_pool_49 (GraphPool)   multiple                  0         \n",
            "                                                                 \n",
            " dense_36 (Dense)            multiple                  8320      \n",
            "                                                                 \n",
            " graph_gather_18 (GraphGath  multiple                  0         \n",
            " er)                                                             \n",
            "                                                                 \n",
            " trim_graph_output_18 (Trim  multiple                  0         \n",
            " GraphOutput)                                                    \n",
            "                                                                 \n",
            " dense_37 (Dense)            multiple                  514       \n",
            "                                                                 \n",
            " reshape_18 (Reshape)        multiple                  0         \n",
            "                                                                 \n",
            " softmax_18 (Softmax)        multiple                  0         \n",
            "                                                                 \n",
            "=================================================================\n",
            "Total params: 199362 (778.76 KB)\n",
            "Trainable params: 198850 (776.76 KB)\n",
            "Non-trainable params: 512 (2.00 KB)\n",
            "_________________________________________________________________\n"
          ]
        }
      ]
    },
    {
      "cell_type": "markdown",
      "source": [
        "# Model 17"
      ],
      "metadata": {
        "id": "2hV8IFyNMjp9"
      }
    },
    {
      "cell_type": "code",
      "source": [
        "import numpy as np\n",
        "import deepchem as dc\n",
        "\n",
        "# Assuming train_dataset and test_dataset are already defined and loaded\n",
        "\n",
        "# Initialize model\n",
        "model = dc.models.GraphConvModel(n_tasks=len(tasks), mode='classification')\n",
        "\n",
        "# Train model\n",
        "model.fit(train_dataset, nb_epoch=50)"
      ],
      "metadata": {
        "id": "Ns6S-RJeGNQp"
      },
      "execution_count": null,
      "outputs": []
    },
    {
      "cell_type": "code",
      "source": [
        "metrics = [dc.metrics.Metric(dc.metrics.accuracy_score),\n",
        "           dc.metrics.Metric(dc.metrics.f1_score),\n",
        "           dc.metrics.Metric(dc.metrics.roc_auc_score)]\n",
        "\n",
        "for metric in metrics:\n",
        "    print(\"Train\", metric.name, \":\", model.evaluate(train_dataset, [metric]))\n",
        "    print(\"Test\", metric.name, \":\", model.evaluate(test_dataset, [metric]))"
      ],
      "metadata": {
        "colab": {
          "base_uri": "https://localhost:8080/"
        },
        "id": "Ig3-lg0yKbEx",
        "outputId": "e07587af-9f34-4817-d90d-c194bd906742"
      },
      "execution_count": 32,
      "outputs": [
        {
          "output_type": "stream",
          "name": "stdout",
          "text": [
            "Train accuracy_score : {'accuracy_score': 0.9504441327723235}\n",
            "Test accuracy_score : {'accuracy_score': 0.8970588235294118}\n",
            "Train f1_score : {'f1_score': 0.9411764705882354}\n",
            "Test f1_score : {'f1_score': 0.8960396039603961}\n",
            "Train roc_auc_score : {'roc_auc_score': 0.9936314744155585}\n",
            "Test roc_auc_score : {'roc_auc_score': 0.9639903846153846}\n"
          ]
        }
      ]
    },
    {
      "cell_type": "code",
      "source": [
        "print(train_dataset)"
      ],
      "metadata": {
        "colab": {
          "base_uri": "https://localhost:8080/"
        },
        "id": "Y28CjSV0HsAg",
        "outputId": "07a377c9-24f7-4344-e883-f509ac941e24"
      },
      "execution_count": 27,
      "outputs": [
        {
          "output_type": "stream",
          "name": "stdout",
          "text": [
            "<NumpyDataset X.shape: (2139,), y.shape: (2139, 1), w.shape: (2139, 1), task_names: [0]>\n"
          ]
        }
      ]
    },
    {
      "cell_type": "code",
      "source": [
        "model.model.summary()"
      ],
      "metadata": {
        "colab": {
          "base_uri": "https://localhost:8080/"
        },
        "id": "NlcSo4lyGQq-",
        "outputId": "a97d7821-4f66-4ab6-d1c8-f100a3cbf81f"
      },
      "execution_count": 33,
      "outputs": [
        {
          "output_type": "stream",
          "name": "stdout",
          "text": [
            "Model: \"private__graph_conv_keras_model_17\"\n",
            "_________________________________________________________________\n",
            " Layer (type)                Output Shape              Param #   \n",
            "=================================================================\n",
            " graph_conv_46 (GraphConv)   multiple                  102144    \n",
            "                                                                 \n",
            " graph_conv_47 (GraphConv)   multiple                  87360     \n",
            "                                                                 \n",
            " batch_normalization_63 (Ba  multiple                  256       \n",
            " tchNormalization)                                               \n",
            "                                                                 \n",
            " batch_normalization_64 (Ba  multiple                  256       \n",
            " tchNormalization)                                               \n",
            "                                                                 \n",
            " batch_normalization_65 (Ba  multiple                  512       \n",
            " tchNormalization)                                               \n",
            "                                                                 \n",
            " graph_pool_46 (GraphPool)   multiple                  0         \n",
            "                                                                 \n",
            " graph_pool_47 (GraphPool)   multiple                  0         \n",
            "                                                                 \n",
            " dense_34 (Dense)            multiple                  8320      \n",
            "                                                                 \n",
            " graph_gather_17 (GraphGath  multiple                  0         \n",
            " er)                                                             \n",
            "                                                                 \n",
            " trim_graph_output_17 (Trim  multiple                  0         \n",
            " GraphOutput)                                                    \n",
            "                                                                 \n",
            " dense_35 (Dense)            multiple                  514       \n",
            "                                                                 \n",
            " reshape_17 (Reshape)        multiple                  0         \n",
            "                                                                 \n",
            " softmax_17 (Softmax)        multiple                  0         \n",
            "                                                                 \n",
            "=================================================================\n",
            "Total params: 199362 (778.76 KB)\n",
            "Trainable params: 198850 (776.76 KB)\n",
            "Non-trainable params: 512 (2.00 KB)\n",
            "_________________________________________________________________\n"
          ]
        }
      ]
    },
    {
      "cell_type": "code",
      "source": [],
      "metadata": {
        "id": "GOBk8bbtGTWo"
      },
      "execution_count": null,
      "outputs": []
    },
    {
      "cell_type": "markdown",
      "source": [
        "# Nested 5 fold cross validation based on model 18"
      ],
      "metadata": {
        "id": "W1VeudnHNHso"
      }
    },
    {
      "cell_type": "code",
      "source": [
        "# refactored\n",
        "\n",
        "import deepchem as dc\n",
        "import numpy as np\n",
        "from sklearn.model_selection import KFold\n",
        "\n",
        "# Load and Featurize the data using DeepChem\n",
        "tasks = [\"single-class-label\"]\n",
        "ntasks = len(tasks)\n",
        "featurizer_func = dc.feat.ConvMolFeaturizer()\n",
        "loader = dc.data.CSVLoader(tasks=tasks, feature_field='SMILES', featurizer=featurizer_func)\n",
        "\n",
        "# Load datasets\n",
        "train_dataset = loader.create_dataset(train_file)\n",
        "val_dataset = loader.create_dataset(val_file)\n",
        "test_dataset = loader.create_dataset(test_file)\n",
        "\n",
        "# Concatenate train and test datasets for cross-validation\n",
        "dataset = dc.data.DiskDataset.merge([train_dataset, test_dataset])\n",
        "\n",
        "# Get the features (X) and labels (y) from the dataset\n",
        "X = dataset.X\n",
        "y = dataset.y\n",
        "\n",
        "# Initialize the outer KFold\n",
        "outer_kf = KFold(n_splits=5, shuffle=True, random_state=1)\n",
        "\n",
        "outer_accuracies = []\n",
        "outer_f1_scores = []\n",
        "outer_roc_auc_scores = []\n",
        "\n",
        "# Initialize the model outside the loop\n",
        "model = dc.models.GraphConvModel(n_tasks=len(tasks), mode='classification')\n",
        "\n",
        "for outer_train_index, outer_test_index in outer_kf.split(X):\n",
        "    outer_X_train, outer_X_test = X[outer_train_index], X[outer_test_index]\n",
        "    outer_y_train, outer_y_test = y[outer_train_index], y[outer_test_index]\n",
        "\n",
        "    # Initialize the inner KFold\n",
        "    inner_kf = KFold(n_splits=5, shuffle=True, random_state=1)\n",
        "    inner_accuracies = []\n",
        "    inner_f1_scores = []\n",
        "    inner_roc_auc_scores = []\n",
        "\n",
        "    for inner_train_index, inner_val_index in inner_kf.split(outer_X_train):\n",
        "        inner_X_train, inner_X_val = outer_X_train[inner_train_index], outer_X_train[inner_val_index]\n",
        "        inner_y_train, inner_y_val = outer_y_train[inner_train_index], outer_y_train[inner_val_index]\n",
        "\n",
        "        train_dataset = dc.data.NumpyDataset(inner_X_train, inner_y_train)\n",
        "        val_dataset = dc.data.NumpyDataset(inner_X_val, inner_y_val)\n",
        "\n",
        "        # Train the model using pre-defined function\n",
        "        model.fit(train_dataset, nb_epoch=50)\n",
        "\n",
        "        # Evaluate using pre-defined function\n",
        "        val_scores = model.evaluate(val_dataset, [dc.metrics.Metric(dc.metrics.accuracy_score),\n",
        "                                                  dc.metrics.Metric(dc.metrics.f1_score),\n",
        "                                                  dc.metrics.Metric(dc.metrics.roc_auc_score)])\n",
        "        inner_accuracies.append(val_scores['accuracy_score'])\n",
        "        inner_f1_scores.append(val_scores['f1_score'])\n",
        "        inner_roc_auc_scores.append(val_scores['roc_auc_score'])\n",
        "\n",
        "    avg_inner_accuracy = np.mean(inner_accuracies)\n",
        "    avg_inner_f1_score = np.mean(inner_f1_scores)\n",
        "    avg_inner_roc_auc_score = np.mean(inner_roc_auc_scores)\n",
        "\n",
        "    final_train_dataset = dc.data.NumpyDataset(outer_X_train, outer_y_train)\n",
        "    final_test_dataset = dc.data.NumpyDataset(outer_X_test, outer_y_test)\n",
        "\n",
        "    # Train on the entire outer training data using pre-defined function\n",
        "    model.fit(final_train_dataset, nb_epoch=50)\n",
        "\n",
        "    # Evaluate on the outer test set using pre-defined function\n",
        "    outer_test_scores = model.evaluate(final_test_dataset, [dc.metrics.Metric(dc.metrics.accuracy_score),\n",
        "                                                            dc.metrics.Metric(dc.metrics.f1_score),\n",
        "                                                            dc.metrics.Metric(dc.metrics.roc_auc_score)])\n",
        "    outer_accuracies.append(outer_test_scores['accuracy_score'])\n",
        "    outer_f1_scores.append(outer_test_scores['f1_score'])\n",
        "    outer_roc_auc_scores.append(outer_test_scores['roc_auc_score'])\n",
        "\n",
        "final_accuracy = np.mean(outer_accuracies)\n",
        "final_f1_score = np.mean(outer_f1_scores)\n",
        "final_roc_auc_score = np.mean(outer_roc_auc_scores)\n",
        "\n",
        "print(f'Final Accuracy: {final_accuracy}')\n",
        "print(f'Final F1 Score: {final_f1_score}')\n",
        "print(f'Final ROC AUC Score: {final_roc_auc_score}')"
      ],
      "metadata": {
        "colab": {
          "base_uri": "https://localhost:8080/"
        },
        "id": "x-sPvw9tTrMy",
        "outputId": "62da9d42-5423-4815-c969-4c08adcc33e4"
      },
      "execution_count": 49,
      "outputs": [
        {
          "output_type": "stream",
          "name": "stdout",
          "text": [
            "Final Accuracy: 0.9114260268700267\n",
            "Final F1 Score: 0.9000183415801821\n",
            "Final ROC AUC Score: 0.9664856978565657\n"
          ]
        }
      ]
    },
    {
      "cell_type": "code",
      "source": [
        "model.model.summary()"
      ],
      "metadata": {
        "colab": {
          "base_uri": "https://localhost:8080/"
        },
        "id": "50lfT1iENWN3",
        "outputId": "be74862d-e42f-46bd-b8d3-f657f1178dda"
      },
      "execution_count": 50,
      "outputs": [
        {
          "output_type": "stream",
          "name": "stdout",
          "text": [
            "Model: \"private__graph_conv_keras_model_48\"\n",
            "_________________________________________________________________\n",
            " Layer (type)                Output Shape              Param #   \n",
            "=================================================================\n",
            " graph_conv_108 (GraphConv)  multiple                  102144    \n",
            "                                                                 \n",
            " graph_conv_109 (GraphConv)  multiple                  87360     \n",
            "                                                                 \n",
            " batch_normalization_156 (B  multiple                  256       \n",
            " atchNormalization)                                              \n",
            "                                                                 \n",
            " batch_normalization_157 (B  multiple                  256       \n",
            " atchNormalization)                                              \n",
            "                                                                 \n",
            " batch_normalization_158 (B  multiple                  512       \n",
            " atchNormalization)                                              \n",
            "                                                                 \n",
            " graph_pool_108 (GraphPool)  multiple                  0         \n",
            "                                                                 \n",
            " graph_pool_109 (GraphPool)  multiple                  0         \n",
            "                                                                 \n",
            " dense_96 (Dense)            multiple                  8320      \n",
            "                                                                 \n",
            " graph_gather_48 (GraphGath  multiple                  0         \n",
            " er)                                                             \n",
            "                                                                 \n",
            " trim_graph_output_48 (Trim  multiple                  0         \n",
            " GraphOutput)                                                    \n",
            "                                                                 \n",
            " dense_97 (Dense)            multiple                  514       \n",
            "                                                                 \n",
            " reshape_48 (Reshape)        multiple                  0         \n",
            "                                                                 \n",
            " softmax_48 (Softmax)        multiple                  0         \n",
            "                                                                 \n",
            "=================================================================\n",
            "Total params: 199362 (778.76 KB)\n",
            "Trainable params: 198850 (776.76 KB)\n",
            "Non-trainable params: 512 (2.00 KB)\n",
            "_________________________________________________________________\n"
          ]
        }
      ]
    },
    {
      "cell_type": "code",
      "source": [
        "model.save_checkpoint(model_dir='/content/drive/MyDrive/Colab Notebooks/FYP1/DeepChemGCNModels/Best_model_17.6')"
      ],
      "metadata": {
        "id": "wFpSWLPMsMT3"
      },
      "execution_count": 57,
      "outputs": []
    },
    {
      "cell_type": "code",
      "source": [
        "# check if the checkpoint files are saved correctly\n",
        "model.get_checkpoints(model_dir='/content/drive/MyDrive/Colab Notebooks/FYP1/DeepChemGCNModels/Best_model_17.6')"
      ],
      "metadata": {
        "colab": {
          "base_uri": "https://localhost:8080/"
        },
        "id": "oOAKAjvvu4tf",
        "outputId": "518463ac-b544-4199-9084-f4a5e53bde9c"
      },
      "execution_count": 60,
      "outputs": [
        {
          "output_type": "execute_result",
          "data": {
            "text/plain": [
              "['/content/drive/MyDrive/Colab Notebooks/FYP1/DeepChemGCNModels/Best_model_17.6/ckpt-66']"
            ]
          },
          "metadata": {},
          "execution_count": 60
        }
      ]
    },
    {
      "cell_type": "code",
      "source": [
        "import json\n",
        "\n",
        "results = {\n",
        "    'final_accuracy': final_accuracy,\n",
        "    'final_f1_score': final_f1_score,\n",
        "    'final_roc_auc_score': final_roc_auc_score,\n",
        "    'outer_accuracies': outer_accuracies,\n",
        "    'outer_f1_scores': outer_f1_scores,\n",
        "    'outer_roc_auc_scores': outer_roc_auc_scores\n",
        "}\n",
        "\n",
        "with open('model_results.json', 'w') as f:\n",
        "    json.dump(results, f)"
      ],
      "metadata": {
        "id": "QEKvR2EeyHMT"
      },
      "execution_count": 61,
      "outputs": []
    },
    {
      "cell_type": "code",
      "source": [
        "model.restore(model_dir='/content/drive/MyDrive/Colab Notebooks/FYP1/DeepChemGCNModels/Best_model_17.6')"
      ],
      "metadata": {
        "id": "77N_jRCB0qRj"
      },
      "execution_count": 64,
      "outputs": []
    }
  ]
}